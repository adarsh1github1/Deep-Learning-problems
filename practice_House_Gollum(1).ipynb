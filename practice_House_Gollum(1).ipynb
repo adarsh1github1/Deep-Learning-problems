{
 "cells": [
  {
   "cell_type": "markdown",
   "metadata": {
    "id": "rF_FH4ouUJCh"
   },
   "source": [
    "Using Google colab for development of date prediction of invoices"
   ]
  },
  {
   "cell_type": "code",
   "execution_count": 1,
   "metadata": {
    "id": "KZUevk_adapQ"
   },
   "outputs": [],
   "source": [
    "import pandas as pd\n",
    "import numpy as np\n",
    "import os\n"
   ]
  },
  {
   "cell_type": "markdown",
   "metadata": {
    "id": "6HFObEijUUP6"
   },
   "source": [
    "Loading the dataset"
   ]
  },
  {
   "cell_type": "code",
   "execution_count": 2,
   "metadata": {
    "id": "vM706nFBegYI"
   },
   "outputs": [],
   "source": [
    "import io\n",
    "df2 = pd.read_csv('1805176.csv')"
   ]
  },
  {
   "cell_type": "code",
   "execution_count": 3,
   "metadata": {
    "colab": {
     "base_uri": "https://localhost:8080/",
     "height": 322
    },
    "id": "RV70n4EHfIlq",
    "outputId": "a633d832-6267-49fb-b0d7-4902f8bdb857"
   },
   "outputs": [
    {
     "data": {
      "text/html": [
       "<div>\n",
       "<style scoped>\n",
       "    .dataframe tbody tr th:only-of-type {\n",
       "        vertical-align: middle;\n",
       "    }\n",
       "\n",
       "    .dataframe tbody tr th {\n",
       "        vertical-align: top;\n",
       "    }\n",
       "\n",
       "    .dataframe thead th {\n",
       "        text-align: right;\n",
       "    }\n",
       "</style>\n",
       "<table border=\"1\" class=\"dataframe\">\n",
       "  <thead>\n",
       "    <tr style=\"text-align: right;\">\n",
       "      <th></th>\n",
       "      <th>business_code</th>\n",
       "      <th>cust_number</th>\n",
       "      <th>name_customer</th>\n",
       "      <th>clear_date</th>\n",
       "      <th>buisness_year</th>\n",
       "      <th>doc_id</th>\n",
       "      <th>posting_date</th>\n",
       "      <th>document_create_date</th>\n",
       "      <th>document_create_date.1</th>\n",
       "      <th>due_in_date</th>\n",
       "      <th>invoice_currency</th>\n",
       "      <th>document type</th>\n",
       "      <th>posting_id</th>\n",
       "      <th>area_business</th>\n",
       "      <th>total_open_amount</th>\n",
       "      <th>baseline_create_date</th>\n",
       "      <th>cust_payment_terms</th>\n",
       "      <th>invoice_id</th>\n",
       "      <th>isOpen</th>\n",
       "    </tr>\n",
       "  </thead>\n",
       "  <tbody>\n",
       "    <tr>\n",
       "      <th>0</th>\n",
       "      <td>U001</td>\n",
       "      <td>0200769623</td>\n",
       "      <td>WAL-MAR co</td>\n",
       "      <td>2019-12-03 00:00:00</td>\n",
       "      <td>2019.0</td>\n",
       "      <td>1.930185e+09</td>\n",
       "      <td>2019-11-22</td>\n",
       "      <td>20191122</td>\n",
       "      <td>20191122</td>\n",
       "      <td>20191207.0</td>\n",
       "      <td>USD</td>\n",
       "      <td>RV</td>\n",
       "      <td>1.0</td>\n",
       "      <td>NaN</td>\n",
       "      <td>23362.84</td>\n",
       "      <td>20191122.0</td>\n",
       "      <td>NAH4</td>\n",
       "      <td>1.930185e+09</td>\n",
       "      <td>0</td>\n",
       "    </tr>\n",
       "    <tr>\n",
       "      <th>1</th>\n",
       "      <td>U001</td>\n",
       "      <td>0200744019</td>\n",
       "      <td>TARG foundation</td>\n",
       "      <td>2020-01-29 00:00:00</td>\n",
       "      <td>2020.0</td>\n",
       "      <td>1.930392e+09</td>\n",
       "      <td>2020-01-14</td>\n",
       "      <td>20200113</td>\n",
       "      <td>20200114</td>\n",
       "      <td>20200129.0</td>\n",
       "      <td>USD</td>\n",
       "      <td>RV</td>\n",
       "      <td>1.0</td>\n",
       "      <td>NaN</td>\n",
       "      <td>3977.47</td>\n",
       "      <td>20200114.0</td>\n",
       "      <td>NAA8</td>\n",
       "      <td>1.930392e+09</td>\n",
       "      <td>0</td>\n",
       "    </tr>\n",
       "    <tr>\n",
       "      <th>2</th>\n",
       "      <td>U001</td>\n",
       "      <td>0200704045</td>\n",
       "      <td>RA associates</td>\n",
       "      <td>2019-07-05 00:00:00</td>\n",
       "      <td>2019.0</td>\n",
       "      <td>1.929518e+09</td>\n",
       "      <td>2019-06-20</td>\n",
       "      <td>20190620</td>\n",
       "      <td>20190620</td>\n",
       "      <td>20190705.0</td>\n",
       "      <td>USD</td>\n",
       "      <td>RV</td>\n",
       "      <td>1.0</td>\n",
       "      <td>NaN</td>\n",
       "      <td>26230.18</td>\n",
       "      <td>20190620.0</td>\n",
       "      <td>NAA8</td>\n",
       "      <td>1.929518e+09</td>\n",
       "      <td>0</td>\n",
       "    </tr>\n",
       "    <tr>\n",
       "      <th>3</th>\n",
       "      <td>U001</td>\n",
       "      <td>0200793568</td>\n",
       "      <td>SUPE associates</td>\n",
       "      <td>2019-05-20 00:00:00</td>\n",
       "      <td>2019.0</td>\n",
       "      <td>1.929252e+09</td>\n",
       "      <td>2019-05-03</td>\n",
       "      <td>20190503</td>\n",
       "      <td>20190503</td>\n",
       "      <td>20190518.0</td>\n",
       "      <td>USD</td>\n",
       "      <td>RV</td>\n",
       "      <td>1.0</td>\n",
       "      <td>NaN</td>\n",
       "      <td>81606.25</td>\n",
       "      <td>20190503.0</td>\n",
       "      <td>NAA8</td>\n",
       "      <td>1.929252e+09</td>\n",
       "      <td>0</td>\n",
       "    </tr>\n",
       "    <tr>\n",
       "      <th>4</th>\n",
       "      <td>U001</td>\n",
       "      <td>200761734</td>\n",
       "      <td>H E BUT corporation</td>\n",
       "      <td>2019-02-05 00:00:00</td>\n",
       "      <td>2019.0</td>\n",
       "      <td>1.928652e+09</td>\n",
       "      <td>2019-01-22</td>\n",
       "      <td>20190119</td>\n",
       "      <td>20190122</td>\n",
       "      <td>20190206.0</td>\n",
       "      <td>USD</td>\n",
       "      <td>RV</td>\n",
       "      <td>1.0</td>\n",
       "      <td>NaN</td>\n",
       "      <td>15293.58</td>\n",
       "      <td>20190122.0</td>\n",
       "      <td>NAA8</td>\n",
       "      <td>1.928652e+09</td>\n",
       "      <td>0</td>\n",
       "    </tr>\n",
       "  </tbody>\n",
       "</table>\n",
       "</div>"
      ],
      "text/plain": [
       "  business_code cust_number        name_customer           clear_date  \\\n",
       "0          U001  0200769623           WAL-MAR co  2019-12-03 00:00:00   \n",
       "1          U001  0200744019      TARG foundation  2020-01-29 00:00:00   \n",
       "2          U001  0200704045        RA associates  2019-07-05 00:00:00   \n",
       "3          U001  0200793568      SUPE associates  2019-05-20 00:00:00   \n",
       "4          U001   200761734  H E BUT corporation  2019-02-05 00:00:00   \n",
       "\n",
       "   buisness_year        doc_id posting_date  document_create_date  \\\n",
       "0         2019.0  1.930185e+09   2019-11-22              20191122   \n",
       "1         2020.0  1.930392e+09   2020-01-14              20200113   \n",
       "2         2019.0  1.929518e+09   2019-06-20              20190620   \n",
       "3         2019.0  1.929252e+09   2019-05-03              20190503   \n",
       "4         2019.0  1.928652e+09   2019-01-22              20190119   \n",
       "\n",
       "   document_create_date.1  due_in_date invoice_currency document type  \\\n",
       "0                20191122   20191207.0              USD            RV   \n",
       "1                20200114   20200129.0              USD            RV   \n",
       "2                20190620   20190705.0              USD            RV   \n",
       "3                20190503   20190518.0              USD            RV   \n",
       "4                20190122   20190206.0              USD            RV   \n",
       "\n",
       "   posting_id  area_business  total_open_amount  baseline_create_date  \\\n",
       "0         1.0            NaN           23362.84            20191122.0   \n",
       "1         1.0            NaN            3977.47            20200114.0   \n",
       "2         1.0            NaN           26230.18            20190620.0   \n",
       "3         1.0            NaN           81606.25            20190503.0   \n",
       "4         1.0            NaN           15293.58            20190122.0   \n",
       "\n",
       "  cust_payment_terms    invoice_id  isOpen  \n",
       "0               NAH4  1.930185e+09       0  \n",
       "1               NAA8  1.930392e+09       0  \n",
       "2               NAA8  1.929518e+09       0  \n",
       "3               NAA8  1.929252e+09       0  \n",
       "4               NAA8  1.928652e+09       0  "
      ]
     },
     "execution_count": 3,
     "metadata": {},
     "output_type": "execute_result"
    }
   ],
   "source": [
    "df2.head()"
   ]
  },
  {
   "cell_type": "code",
   "execution_count": 4,
   "metadata": {
    "colab": {
     "base_uri": "https://localhost:8080/"
    },
    "id": "oyFCjTpYfOWI",
    "outputId": "a11804a2-505d-4804-e308-ad947ba72a25"
   },
   "outputs": [
    {
     "name": "stdout",
     "output_type": "stream",
     "text": [
      "<class 'pandas.core.frame.DataFrame'>\n",
      "RangeIndex: 50000 entries, 0 to 49999\n",
      "Data columns (total 19 columns):\n",
      " #   Column                  Non-Null Count  Dtype  \n",
      "---  ------                  --------------  -----  \n",
      " 0   business_code           50000 non-null  object \n",
      " 1   cust_number             50000 non-null  object \n",
      " 2   name_customer           50000 non-null  object \n",
      " 3   clear_date              45863 non-null  object \n",
      " 4   buisness_year           50000 non-null  float64\n",
      " 5   doc_id                  50000 non-null  float64\n",
      " 6   posting_date            50000 non-null  object \n",
      " 7   document_create_date    50000 non-null  int64  \n",
      " 8   document_create_date.1  50000 non-null  int64  \n",
      " 9   due_in_date             50000 non-null  float64\n",
      " 10  invoice_currency        50000 non-null  object \n",
      " 11  document type           50000 non-null  object \n",
      " 12  posting_id              50000 non-null  float64\n",
      " 13  area_business           0 non-null      float64\n",
      " 14  total_open_amount       50000 non-null  float64\n",
      " 15  baseline_create_date    50000 non-null  float64\n",
      " 16  cust_payment_terms      50000 non-null  object \n",
      " 17  invoice_id              49995 non-null  float64\n",
      " 18  isOpen                  50000 non-null  int64  \n",
      "dtypes: float64(8), int64(3), object(8)\n",
      "memory usage: 7.2+ MB\n"
     ]
    }
   ],
   "source": [
    "df2.info()"
   ]
  },
  {
   "cell_type": "markdown",
   "metadata": {
    "id": "E0fjdiS6tSj9"
   },
   "source": [
    "Dropped the area buisness column as its evidently all null values"
   ]
  },
  {
   "cell_type": "code",
   "execution_count": 5,
   "metadata": {
    "id": "2sHeUSPEfayY"
   },
   "outputs": [],
   "source": [
    "df2=df2.drop(['area_business'],axis=1)\n"
   ]
  },
  {
   "cell_type": "markdown",
   "metadata": {
    "id": "GH5xwJvytdN6"
   },
   "source": [
    "Converting all objects,int , float dates to datetime"
   ]
  },
  {
   "cell_type": "code",
   "execution_count": 6,
   "metadata": {
    "id": "vby3oUI0WL70"
   },
   "outputs": [],
   "source": [
    "df2['due_in_date']=pd.to_datetime(df2['due_in_date'],format='%Y%m%d')"
   ]
  },
  {
   "cell_type": "code",
   "execution_count": 7,
   "metadata": {
    "id": "aMyjkVUSWPxq"
   },
   "outputs": [],
   "source": [
    "df2['clear_date']=pd.to_datetime(df2['clear_date'])"
   ]
  },
  {
   "cell_type": "code",
   "execution_count": 8,
   "metadata": {
    "id": "JluflPJoMASL"
   },
   "outputs": [],
   "source": [
    "df2['posting_date']=pd.to_datetime(df2['posting_date'])"
   ]
  },
  {
   "cell_type": "code",
   "execution_count": 9,
   "metadata": {
    "id": "O5Ed7IMItDXw"
   },
   "outputs": [],
   "source": [
    "df2['posting_date'].dtypes\n",
    "df2.astype({'posting_date': 'str'}).dtypes\n",
    "df2['posting_date']=pd.to_datetime(df2['posting_date'])"
   ]
  },
  {
   "cell_type": "code",
   "execution_count": 10,
   "metadata": {
    "colab": {
     "base_uri": "https://localhost:8080/"
    },
    "id": "hQvOgftYVS3Z",
    "outputId": "ddaf0a2a-5e80-48c3-da94-729b65a97088"
   },
   "outputs": [
    {
     "data": {
      "text/plain": [
       "0       1970-01-01 00:00:00.020191122\n",
       "1       1970-01-01 00:00:00.020200114\n",
       "2       1970-01-01 00:00:00.020190620\n",
       "3       1970-01-01 00:00:00.020190503\n",
       "4       1970-01-01 00:00:00.020190122\n",
       "                     ...             \n",
       "49995   1970-01-01 00:00:00.020200313\n",
       "49996   1970-01-01 00:00:00.020200322\n",
       "49997   1970-01-01 00:00:00.020200324\n",
       "49998   1970-01-01 00:00:00.020200318\n",
       "49999   1970-01-01 00:00:00.020200328\n",
       "Name: document_create_date.1, Length: 50000, dtype: datetime64[ns]"
      ]
     },
     "execution_count": 10,
     "metadata": {},
     "output_type": "execute_result"
    }
   ],
   "source": [
    "df2['document_create_date.1']=pd.to_datetime(df2['document_create_date.1'])\n",
    "df2['document_create_date.1']"
   ]
  },
  {
   "cell_type": "code",
   "execution_count": 12,
   "metadata": {
    "id": "TWWi7RpltmpT"
   },
   "outputs": [],
   "source": [
    "#Creating target variable named target by substracting due date and clear date column"
   ]
  },
  {
   "cell_type": "code",
   "execution_count": 13,
   "metadata": {
    "colab": {
     "base_uri": "https://localhost:8080/",
     "height": 287
    },
    "id": "MPCK3j67gEMQ",
    "outputId": "a575b389-57b2-4d38-d8b7-3da54cde1447"
   },
   "outputs": [
    {
     "data": {
      "text/html": [
       "<div>\n",
       "<style scoped>\n",
       "    .dataframe tbody tr th:only-of-type {\n",
       "        vertical-align: middle;\n",
       "    }\n",
       "\n",
       "    .dataframe tbody tr th {\n",
       "        vertical-align: top;\n",
       "    }\n",
       "\n",
       "    .dataframe thead th {\n",
       "        text-align: right;\n",
       "    }\n",
       "</style>\n",
       "<table border=\"1\" class=\"dataframe\">\n",
       "  <thead>\n",
       "    <tr style=\"text-align: right;\">\n",
       "      <th></th>\n",
       "      <th>business_code</th>\n",
       "      <th>cust_number</th>\n",
       "      <th>name_customer</th>\n",
       "      <th>clear_date</th>\n",
       "      <th>buisness_year</th>\n",
       "      <th>doc_id</th>\n",
       "      <th>posting_date</th>\n",
       "      <th>document_create_date</th>\n",
       "      <th>document_create_date.1</th>\n",
       "      <th>due_in_date</th>\n",
       "      <th>invoice_currency</th>\n",
       "      <th>document type</th>\n",
       "      <th>posting_id</th>\n",
       "      <th>total_open_amount</th>\n",
       "      <th>baseline_create_date</th>\n",
       "      <th>cust_payment_terms</th>\n",
       "      <th>invoice_id</th>\n",
       "      <th>isOpen</th>\n",
       "      <th>Target</th>\n",
       "    </tr>\n",
       "  </thead>\n",
       "  <tbody>\n",
       "    <tr>\n",
       "      <th>0</th>\n",
       "      <td>U001</td>\n",
       "      <td>0200769623</td>\n",
       "      <td>WAL-MAR co</td>\n",
       "      <td>2019-12-03</td>\n",
       "      <td>2019.0</td>\n",
       "      <td>1.930185e+09</td>\n",
       "      <td>2019-11-22</td>\n",
       "      <td>20191122</td>\n",
       "      <td>1970-01-01 00:00:00.020191122</td>\n",
       "      <td>2019-12-07</td>\n",
       "      <td>USD</td>\n",
       "      <td>RV</td>\n",
       "      <td>1.0</td>\n",
       "      <td>23362.84</td>\n",
       "      <td>20191122.0</td>\n",
       "      <td>NAH4</td>\n",
       "      <td>1.930185e+09</td>\n",
       "      <td>0</td>\n",
       "      <td>-4.0</td>\n",
       "    </tr>\n",
       "    <tr>\n",
       "      <th>1</th>\n",
       "      <td>U001</td>\n",
       "      <td>0200744019</td>\n",
       "      <td>TARG foundation</td>\n",
       "      <td>2020-01-29</td>\n",
       "      <td>2020.0</td>\n",
       "      <td>1.930392e+09</td>\n",
       "      <td>2020-01-14</td>\n",
       "      <td>20200113</td>\n",
       "      <td>1970-01-01 00:00:00.020200114</td>\n",
       "      <td>2020-01-29</td>\n",
       "      <td>USD</td>\n",
       "      <td>RV</td>\n",
       "      <td>1.0</td>\n",
       "      <td>3977.47</td>\n",
       "      <td>20200114.0</td>\n",
       "      <td>NAA8</td>\n",
       "      <td>1.930392e+09</td>\n",
       "      <td>0</td>\n",
       "      <td>0.0</td>\n",
       "    </tr>\n",
       "    <tr>\n",
       "      <th>2</th>\n",
       "      <td>U001</td>\n",
       "      <td>0200704045</td>\n",
       "      <td>RA associates</td>\n",
       "      <td>2019-07-05</td>\n",
       "      <td>2019.0</td>\n",
       "      <td>1.929518e+09</td>\n",
       "      <td>2019-06-20</td>\n",
       "      <td>20190620</td>\n",
       "      <td>1970-01-01 00:00:00.020190620</td>\n",
       "      <td>2019-07-05</td>\n",
       "      <td>USD</td>\n",
       "      <td>RV</td>\n",
       "      <td>1.0</td>\n",
       "      <td>26230.18</td>\n",
       "      <td>20190620.0</td>\n",
       "      <td>NAA8</td>\n",
       "      <td>1.929518e+09</td>\n",
       "      <td>0</td>\n",
       "      <td>0.0</td>\n",
       "    </tr>\n",
       "    <tr>\n",
       "      <th>3</th>\n",
       "      <td>U001</td>\n",
       "      <td>0200793568</td>\n",
       "      <td>SUPE associates</td>\n",
       "      <td>2019-05-20</td>\n",
       "      <td>2019.0</td>\n",
       "      <td>1.929252e+09</td>\n",
       "      <td>2019-05-03</td>\n",
       "      <td>20190503</td>\n",
       "      <td>1970-01-01 00:00:00.020190503</td>\n",
       "      <td>2019-05-18</td>\n",
       "      <td>USD</td>\n",
       "      <td>RV</td>\n",
       "      <td>1.0</td>\n",
       "      <td>81606.25</td>\n",
       "      <td>20190503.0</td>\n",
       "      <td>NAA8</td>\n",
       "      <td>1.929252e+09</td>\n",
       "      <td>0</td>\n",
       "      <td>2.0</td>\n",
       "    </tr>\n",
       "    <tr>\n",
       "      <th>4</th>\n",
       "      <td>U001</td>\n",
       "      <td>200761734</td>\n",
       "      <td>H E BUT corporation</td>\n",
       "      <td>2019-02-05</td>\n",
       "      <td>2019.0</td>\n",
       "      <td>1.928652e+09</td>\n",
       "      <td>2019-01-22</td>\n",
       "      <td>20190119</td>\n",
       "      <td>1970-01-01 00:00:00.020190122</td>\n",
       "      <td>2019-02-06</td>\n",
       "      <td>USD</td>\n",
       "      <td>RV</td>\n",
       "      <td>1.0</td>\n",
       "      <td>15293.58</td>\n",
       "      <td>20190122.0</td>\n",
       "      <td>NAA8</td>\n",
       "      <td>1.928652e+09</td>\n",
       "      <td>0</td>\n",
       "      <td>-1.0</td>\n",
       "    </tr>\n",
       "  </tbody>\n",
       "</table>\n",
       "</div>"
      ],
      "text/plain": [
       "  business_code cust_number        name_customer clear_date  buisness_year  \\\n",
       "0          U001  0200769623           WAL-MAR co 2019-12-03         2019.0   \n",
       "1          U001  0200744019      TARG foundation 2020-01-29         2020.0   \n",
       "2          U001  0200704045        RA associates 2019-07-05         2019.0   \n",
       "3          U001  0200793568      SUPE associates 2019-05-20         2019.0   \n",
       "4          U001   200761734  H E BUT corporation 2019-02-05         2019.0   \n",
       "\n",
       "         doc_id posting_date  document_create_date  \\\n",
       "0  1.930185e+09   2019-11-22              20191122   \n",
       "1  1.930392e+09   2020-01-14              20200113   \n",
       "2  1.929518e+09   2019-06-20              20190620   \n",
       "3  1.929252e+09   2019-05-03              20190503   \n",
       "4  1.928652e+09   2019-01-22              20190119   \n",
       "\n",
       "         document_create_date.1 due_in_date invoice_currency document type  \\\n",
       "0 1970-01-01 00:00:00.020191122  2019-12-07              USD            RV   \n",
       "1 1970-01-01 00:00:00.020200114  2020-01-29              USD            RV   \n",
       "2 1970-01-01 00:00:00.020190620  2019-07-05              USD            RV   \n",
       "3 1970-01-01 00:00:00.020190503  2019-05-18              USD            RV   \n",
       "4 1970-01-01 00:00:00.020190122  2019-02-06              USD            RV   \n",
       "\n",
       "   posting_id  total_open_amount  baseline_create_date cust_payment_terms  \\\n",
       "0         1.0           23362.84            20191122.0               NAH4   \n",
       "1         1.0            3977.47            20200114.0               NAA8   \n",
       "2         1.0           26230.18            20190620.0               NAA8   \n",
       "3         1.0           81606.25            20190503.0               NAA8   \n",
       "4         1.0           15293.58            20190122.0               NAA8   \n",
       "\n",
       "     invoice_id  isOpen  Target  \n",
       "0  1.930185e+09       0    -4.0  \n",
       "1  1.930392e+09       0     0.0  \n",
       "2  1.929518e+09       0     0.0  \n",
       "3  1.929252e+09       0     2.0  \n",
       "4  1.928652e+09       0    -1.0  "
      ]
     },
     "execution_count": 13,
     "metadata": {},
     "output_type": "execute_result"
    }
   ],
   "source": [
    "df2['Target']=(df2['clear_date']-df2['due_in_date']).dt.days\n",
    "df2.head()"
   ]
  },
  {
   "cell_type": "code",
   "execution_count": 14,
   "metadata": {
    "colab": {
     "base_uri": "https://localhost:8080/"
    },
    "id": "c-yZb0zPWlar",
    "outputId": "de344dbc-1d6d-481b-dfdc-c9668f5c38d5"
   },
   "outputs": [
    {
     "data": {
      "text/plain": [
       "0       -4.0\n",
       "1        0.0\n",
       "2        0.0\n",
       "3        2.0\n",
       "4       -1.0\n",
       "        ... \n",
       "49995    NaN\n",
       "49996    NaN\n",
       "49997    NaN\n",
       "49998    NaN\n",
       "49999    NaN\n",
       "Name: Target, Length: 50000, dtype: float64"
      ]
     },
     "execution_count": 14,
     "metadata": {},
     "output_type": "execute_result"
    }
   ],
   "source": [
    "df2['Target']"
   ]
  },
  {
   "cell_type": "code",
   "execution_count": 15,
   "metadata": {
    "colab": {
     "base_uri": "https://localhost:8080/"
    },
    "id": "gVz2dTRnt8Kc",
    "outputId": "2a0c0fd0-8cd7-4fd5-df83-d2fb4d045753"
   },
   "outputs": [
    {
     "data": {
      "text/plain": [
       "0       2019-11-22\n",
       "1       2020-01-14\n",
       "2       2019-06-20\n",
       "3       2019-05-03\n",
       "4       2019-01-22\n",
       "           ...    \n",
       "49995   2020-03-13\n",
       "49996   2020-03-22\n",
       "49997   2020-03-24\n",
       "49998   2020-03-18\n",
       "49999   2020-03-28\n",
       "Name: posting_date, Length: 50000, dtype: datetime64[ns]"
      ]
     },
     "execution_count": 15,
     "metadata": {},
     "output_type": "execute_result"
    }
   ],
   "source": [
    "\n",
    "df2['posting_date']"
   ]
  },
  {
   "cell_type": "code",
   "execution_count": 16,
   "metadata": {
    "colab": {
     "base_uri": "https://localhost:8080/"
    },
    "id": "E-sQdUbzcEAG",
    "outputId": "27436bcb-0dd1-4969-958a-d49f171df387"
   },
   "outputs": [
    {
     "data": {
      "text/plain": [
       "USD    42258\n",
       "CAD     3605\n",
       "Name: invoice_currency, dtype: int64"
      ]
     },
     "execution_count": 16,
     "metadata": {},
     "output_type": "execute_result"
    }
   ],
   "source": [
    "#test-train split where test set is clear_date = null and subsequently making isOpen =1\n",
    "#df is test set\n",
    "df=df2[(df2['clear_date'].isnull()) & (df2['isOpen']==1)]\n",
    "df1=df2[(df2['clear_date'].notnull()) & (df2['isOpen']==0)] \n",
    "df1['invoice_currency'].value_counts()                                                                          "
   ]
  },
  {
   "cell_type": "markdown",
   "metadata": {
    "id": "iwQfH-n_uJwL"
   },
   "source": [
    "Dropping redundandant columns or highly correlated columns as its of no subsequent use in model training and prediction"
   ]
  },
  {
   "cell_type": "code",
   "execution_count": 17,
   "metadata": {
    "id": "-bN80HRxWHQ-"
   },
   "outputs": [],
   "source": [
    "df1=df1.drop(['business_code', 'name_customer', 'doc_id','document_create_date','document type', 'posting_id','isOpen'],axis=1)"
   ]
  },
  {
   "cell_type": "code",
   "execution_count": 18,
   "metadata": {
    "colab": {
     "base_uri": "https://localhost:8080/"
    },
    "id": "yz56nBhCVxyY",
    "outputId": "35e71885-e570-4de6-93d3-fbeabd85132b"
   },
   "outputs": [
    {
     "data": {
      "text/plain": [
       "0200769623    11284\n",
       "0200726979     1860\n",
       "0200762301     1455\n",
       "0200759878     1386\n",
       "0200794332     1176\n",
       "              ...  \n",
       "100013335         1\n",
       "0200630112        1\n",
       "0140106302        1\n",
       "0100048218        1\n",
       "0200112978        1\n",
       "Name: cust_number, Length: 1438, dtype: int64"
      ]
     },
     "execution_count": 18,
     "metadata": {},
     "output_type": "execute_result"
    }
   ],
   "source": [
    "df2['cust_number'].value_counts()"
   ]
  },
  {
   "cell_type": "code",
   "execution_count": 19,
   "metadata": {
    "colab": {
     "base_uri": "https://localhost:8080/",
     "height": 322
    },
    "id": "QkgZz1Exbk90",
    "outputId": "b612ce15-a7f0-498d-dc73-29871defdb6a"
   },
   "outputs": [
    {
     "data": {
      "text/html": [
       "<div>\n",
       "<style scoped>\n",
       "    .dataframe tbody tr th:only-of-type {\n",
       "        vertical-align: middle;\n",
       "    }\n",
       "\n",
       "    .dataframe tbody tr th {\n",
       "        vertical-align: top;\n",
       "    }\n",
       "\n",
       "    .dataframe thead th {\n",
       "        text-align: right;\n",
       "    }\n",
       "</style>\n",
       "<table border=\"1\" class=\"dataframe\">\n",
       "  <thead>\n",
       "    <tr style=\"text-align: right;\">\n",
       "      <th></th>\n",
       "      <th>business_code</th>\n",
       "      <th>cust_number</th>\n",
       "      <th>name_customer</th>\n",
       "      <th>clear_date</th>\n",
       "      <th>buisness_year</th>\n",
       "      <th>doc_id</th>\n",
       "      <th>posting_date</th>\n",
       "      <th>document_create_date</th>\n",
       "      <th>document_create_date.1</th>\n",
       "      <th>due_in_date</th>\n",
       "      <th>invoice_currency</th>\n",
       "      <th>document type</th>\n",
       "      <th>posting_id</th>\n",
       "      <th>total_open_amount</th>\n",
       "      <th>baseline_create_date</th>\n",
       "      <th>cust_payment_terms</th>\n",
       "      <th>invoice_id</th>\n",
       "      <th>isOpen</th>\n",
       "      <th>Target</th>\n",
       "    </tr>\n",
       "  </thead>\n",
       "  <tbody>\n",
       "    <tr>\n",
       "      <th>45863</th>\n",
       "      <td>U001</td>\n",
       "      <td>0200769623</td>\n",
       "      <td>WAL-MAR llc</td>\n",
       "      <td>NaT</td>\n",
       "      <td>2020.0</td>\n",
       "      <td>1.930803e+09</td>\n",
       "      <td>2020-04-19</td>\n",
       "      <td>20200420</td>\n",
       "      <td>1970-01-01 00:00:00.020200419</td>\n",
       "      <td>2020-05-04</td>\n",
       "      <td>USD</td>\n",
       "      <td>RV</td>\n",
       "      <td>1.0</td>\n",
       "      <td>57795.68</td>\n",
       "      <td>20200419.0</td>\n",
       "      <td>NAH4</td>\n",
       "      <td>1.930803e+09</td>\n",
       "      <td>1</td>\n",
       "      <td>NaN</td>\n",
       "    </tr>\n",
       "    <tr>\n",
       "      <th>45864</th>\n",
       "      <td>U001</td>\n",
       "      <td>0200769623</td>\n",
       "      <td>WAL-MAR</td>\n",
       "      <td>NaT</td>\n",
       "      <td>2020.0</td>\n",
       "      <td>1.930706e+09</td>\n",
       "      <td>2020-03-26</td>\n",
       "      <td>20200326</td>\n",
       "      <td>1970-01-01 00:00:00.020200326</td>\n",
       "      <td>2020-04-10</td>\n",
       "      <td>USD</td>\n",
       "      <td>RV</td>\n",
       "      <td>1.0</td>\n",
       "      <td>3485.14</td>\n",
       "      <td>20200326.0</td>\n",
       "      <td>NAH4</td>\n",
       "      <td>1.930706e+09</td>\n",
       "      <td>1</td>\n",
       "      <td>NaN</td>\n",
       "    </tr>\n",
       "    <tr>\n",
       "      <th>45865</th>\n",
       "      <td>U001</td>\n",
       "      <td>0100044041</td>\n",
       "      <td>DEF. F associates</td>\n",
       "      <td>NaT</td>\n",
       "      <td>2020.0</td>\n",
       "      <td>1.930858e+09</td>\n",
       "      <td>2020-05-05</td>\n",
       "      <td>20200505</td>\n",
       "      <td>1970-01-01 00:00:00.020200505</td>\n",
       "      <td>2020-05-24</td>\n",
       "      <td>USD</td>\n",
       "      <td>RV</td>\n",
       "      <td>1.0</td>\n",
       "      <td>1413.82</td>\n",
       "      <td>20200501.0</td>\n",
       "      <td>NAM4</td>\n",
       "      <td>1.930858e+09</td>\n",
       "      <td>1</td>\n",
       "      <td>NaN</td>\n",
       "    </tr>\n",
       "    <tr>\n",
       "      <th>45866</th>\n",
       "      <td>U001</td>\n",
       "      <td>0200705742</td>\n",
       "      <td>DOT trust</td>\n",
       "      <td>NaT</td>\n",
       "      <td>2020.0</td>\n",
       "      <td>1.930693e+09</td>\n",
       "      <td>2020-03-24</td>\n",
       "      <td>20200324</td>\n",
       "      <td>1970-01-01 00:00:00.020200324</td>\n",
       "      <td>2020-04-08</td>\n",
       "      <td>USD</td>\n",
       "      <td>RV</td>\n",
       "      <td>1.0</td>\n",
       "      <td>10998.50</td>\n",
       "      <td>20200324.0</td>\n",
       "      <td>NAA8</td>\n",
       "      <td>1.930693e+09</td>\n",
       "      <td>1</td>\n",
       "      <td>NaN</td>\n",
       "    </tr>\n",
       "    <tr>\n",
       "      <th>45867</th>\n",
       "      <td>U001</td>\n",
       "      <td>0200752302</td>\n",
       "      <td>KROGER us</td>\n",
       "      <td>NaT</td>\n",
       "      <td>2020.0</td>\n",
       "      <td>1.930704e+09</td>\n",
       "      <td>2020-03-27</td>\n",
       "      <td>20200325</td>\n",
       "      <td>1970-01-01 00:00:00.020200327</td>\n",
       "      <td>2020-04-11</td>\n",
       "      <td>USD</td>\n",
       "      <td>RV</td>\n",
       "      <td>1.0</td>\n",
       "      <td>19436.30</td>\n",
       "      <td>20200327.0</td>\n",
       "      <td>NAA8</td>\n",
       "      <td>1.930704e+09</td>\n",
       "      <td>1</td>\n",
       "      <td>NaN</td>\n",
       "    </tr>\n",
       "  </tbody>\n",
       "</table>\n",
       "</div>"
      ],
      "text/plain": [
       "      business_code cust_number      name_customer clear_date  buisness_year  \\\n",
       "45863          U001  0200769623        WAL-MAR llc        NaT         2020.0   \n",
       "45864          U001  0200769623           WAL-MAR         NaT         2020.0   \n",
       "45865          U001  0100044041  DEF. F associates        NaT         2020.0   \n",
       "45866          U001  0200705742          DOT trust        NaT         2020.0   \n",
       "45867          U001  0200752302          KROGER us        NaT         2020.0   \n",
       "\n",
       "             doc_id posting_date  document_create_date  \\\n",
       "45863  1.930803e+09   2020-04-19              20200420   \n",
       "45864  1.930706e+09   2020-03-26              20200326   \n",
       "45865  1.930858e+09   2020-05-05              20200505   \n",
       "45866  1.930693e+09   2020-03-24              20200324   \n",
       "45867  1.930704e+09   2020-03-27              20200325   \n",
       "\n",
       "             document_create_date.1 due_in_date invoice_currency  \\\n",
       "45863 1970-01-01 00:00:00.020200419  2020-05-04              USD   \n",
       "45864 1970-01-01 00:00:00.020200326  2020-04-10              USD   \n",
       "45865 1970-01-01 00:00:00.020200505  2020-05-24              USD   \n",
       "45866 1970-01-01 00:00:00.020200324  2020-04-08              USD   \n",
       "45867 1970-01-01 00:00:00.020200327  2020-04-11              USD   \n",
       "\n",
       "      document type  posting_id  total_open_amount  baseline_create_date  \\\n",
       "45863            RV         1.0           57795.68            20200419.0   \n",
       "45864            RV         1.0            3485.14            20200326.0   \n",
       "45865            RV         1.0            1413.82            20200501.0   \n",
       "45866            RV         1.0           10998.50            20200324.0   \n",
       "45867            RV         1.0           19436.30            20200327.0   \n",
       "\n",
       "      cust_payment_terms    invoice_id  isOpen  Target  \n",
       "45863               NAH4  1.930803e+09       1     NaN  \n",
       "45864               NAH4  1.930706e+09       1     NaN  \n",
       "45865               NAM4  1.930858e+09       1     NaN  \n",
       "45866               NAA8  1.930693e+09       1     NaN  \n",
       "45867               NAA8  1.930704e+09       1     NaN  "
      ]
     },
     "execution_count": 19,
     "metadata": {},
     "output_type": "execute_result"
    }
   ],
   "source": [
    "df.head()"
   ]
  },
  {
   "cell_type": "markdown",
   "metadata": {
    "id": "GxZETaHMuuXh"
   },
   "source": [
    "Dropped clear date from test set as it is null which it should be so of no use\n"
   ]
  },
  {
   "cell_type": "code",
   "execution_count": 20,
   "metadata": {
    "id": "yuKPcqr9EdYY"
   },
   "outputs": [],
   "source": [
    "df=df.drop(['clear_date'],axis=1)"
   ]
  },
  {
   "cell_type": "code",
   "execution_count": 47,
   "metadata": {},
   "outputs": [
    {
     "data": {
      "text/plain": [
       "13"
      ]
     },
     "execution_count": 47,
     "metadata": {},
     "output_type": "execute_result"
    }
   ],
   "source": [
    "len(df1.axes[1]) "
   ]
  },
  {
   "cell_type": "code",
   "execution_count": 40,
   "metadata": {},
   "outputs": [
    {
     "data": {
      "image/png": "[encoded data removed]",
      "text/plain": [
       "<Figure size 1440x1080 with 9 Axes>"
      ]
     },
     "metadata": {
      "needs_background": "light"
     },
     "output_type": "display_data"
    }
   ],
   "source": [
    "%matplotlib inline\n",
    "import matplotlib.pyplot as plt\n",
    "df.hist(bins=50, figsize=(20,15))\n",
    "plt.show()"
   ]
  },
  {
   "cell_type": "code",
   "execution_count": 49,
   "metadata": {},
   "outputs": [
    {
     "data": {
      "text/plain": [
       "<matplotlib.axes._subplots.AxesSubplot at 0x7ff5e59e9fa0>"
      ]
     },
     "execution_count": 49,
     "metadata": {},
     "output_type": "execute_result"
    },
    {
     "data": {
      "image/png": "[encoded data removed]",
      "text/plain": [
       "<Figure size 432x288 with 1 Axes>"
      ]
     },
     "metadata": {
      "needs_background": "light"
     },
     "output_type": "display_data"
    }
   ],
   "source": [
    "df2['total_open_amount'].hist()"
   ]
  },
  {
   "cell_type": "code",
   "execution_count": 50,
   "metadata": {},
   "outputs": [],
   "source": [
    "min_val = df2['total_open_amount'].min()\n",
    "max_val = df2['total_open_amount'].max()"
   ]
  },
  {
   "cell_type": "code",
   "execution_count": 51,
   "metadata": {},
   "outputs": [
    {
     "data": {
      "text/html": [
       "<div>\n",
       "<style scoped>\n",
       "    .dataframe tbody tr th:only-of-type {\n",
       "        vertical-align: middle;\n",
       "    }\n",
       "\n",
       "    .dataframe tbody tr th {\n",
       "        vertical-align: top;\n",
       "    }\n",
       "\n",
       "    .dataframe thead th {\n",
       "        text-align: right;\n",
       "    }\n",
       "</style>\n",
       "<table border=\"1\" class=\"dataframe\">\n",
       "  <thead>\n",
       "    <tr style=\"text-align: right;\">\n",
       "      <th></th>\n",
       "      <th>buisness_year</th>\n",
       "      <th>doc_id</th>\n",
       "      <th>document_create_date</th>\n",
       "      <th>posting_id</th>\n",
       "      <th>total_open_amount</th>\n",
       "      <th>baseline_create_date</th>\n",
       "      <th>invoice_id</th>\n",
       "      <th>isOpen</th>\n",
       "      <th>Target</th>\n",
       "    </tr>\n",
       "  </thead>\n",
       "  <tbody>\n",
       "    <tr>\n",
       "      <th>count</th>\n",
       "      <td>50000.000000</td>\n",
       "      <td>5.000000e+04</td>\n",
       "      <td>5.000000e+04</td>\n",
       "      <td>50000.0</td>\n",
       "      <td>50000.000000</td>\n",
       "      <td>5.000000e+04</td>\n",
       "      <td>4.999500e+04</td>\n",
       "      <td>50000.000000</td>\n",
       "      <td>45863.000000</td>\n",
       "    </tr>\n",
       "    <tr>\n",
       "      <th>mean</th>\n",
       "      <td>2019.203980</td>\n",
       "      <td>2.011290e+09</td>\n",
       "      <td>2.019250e+07</td>\n",
       "      <td>1.0</td>\n",
       "      <td>32073.374333</td>\n",
       "      <td>2.019253e+07</td>\n",
       "      <td>2.010541e+09</td>\n",
       "      <td>0.082740</td>\n",
       "      <td>0.885965</td>\n",
       "    </tr>\n",
       "    <tr>\n",
       "      <th>std</th>\n",
       "      <td>0.402958</td>\n",
       "      <td>2.854703e+08</td>\n",
       "      <td>3.910243e+03</td>\n",
       "      <td>0.0</td>\n",
       "      <td>39312.408586</td>\n",
       "      <td>3.893290e+03</td>\n",
       "      <td>2.754853e+08</td>\n",
       "      <td>0.275492</td>\n",
       "      <td>11.074688</td>\n",
       "    </tr>\n",
       "    <tr>\n",
       "      <th>min</th>\n",
       "      <td>2019.000000</td>\n",
       "      <td>1.928502e+09</td>\n",
       "      <td>2.018123e+07</td>\n",
       "      <td>1.0</td>\n",
       "      <td>0.630000</td>\n",
       "      <td>2.018102e+07</td>\n",
       "      <td>1.928502e+09</td>\n",
       "      <td>0.000000</td>\n",
       "      <td>-88.000000</td>\n",
       "    </tr>\n",
       "    <tr>\n",
       "      <th>25%</th>\n",
       "      <td>2019.000000</td>\n",
       "      <td>1.929231e+09</td>\n",
       "      <td>2.019042e+07</td>\n",
       "      <td>1.0</td>\n",
       "      <td>4731.915000</td>\n",
       "      <td>2.019042e+07</td>\n",
       "      <td>1.929231e+09</td>\n",
       "      <td>0.000000</td>\n",
       "      <td>-3.000000</td>\n",
       "    </tr>\n",
       "    <tr>\n",
       "      <th>50%</th>\n",
       "      <td>2019.000000</td>\n",
       "      <td>1.929806e+09</td>\n",
       "      <td>2.019081e+07</td>\n",
       "      <td>1.0</td>\n",
       "      <td>17187.430000</td>\n",
       "      <td>2.019081e+07</td>\n",
       "      <td>1.929805e+09</td>\n",
       "      <td>0.000000</td>\n",
       "      <td>0.000000</td>\n",
       "    </tr>\n",
       "    <tr>\n",
       "      <th>75%</th>\n",
       "      <td>2019.000000</td>\n",
       "      <td>1.930400e+09</td>\n",
       "      <td>2.019112e+07</td>\n",
       "      <td>1.0</td>\n",
       "      <td>46391.880000</td>\n",
       "      <td>2.019113e+07</td>\n",
       "      <td>1.930400e+09</td>\n",
       "      <td>0.000000</td>\n",
       "      <td>2.000000</td>\n",
       "    </tr>\n",
       "    <tr>\n",
       "      <th>max</th>\n",
       "      <td>2020.000000</td>\n",
       "      <td>9.500000e+09</td>\n",
       "      <td>2.020052e+07</td>\n",
       "      <td>1.0</td>\n",
       "      <td>838758.370000</td>\n",
       "      <td>2.020052e+07</td>\n",
       "      <td>2.960636e+09</td>\n",
       "      <td>1.000000</td>\n",
       "      <td>287.000000</td>\n",
       "    </tr>\n",
       "  </tbody>\n",
       "</table>\n",
       "</div>"
      ],
      "text/plain": [
       "       buisness_year        doc_id  document_create_date  posting_id  \\\n",
       "count   50000.000000  5.000000e+04          5.000000e+04     50000.0   \n",
       "mean     2019.203980  2.011290e+09          2.019250e+07         1.0   \n",
       "std         0.402958  2.854703e+08          3.910243e+03         0.0   \n",
       "min      2019.000000  1.928502e+09          2.018123e+07         1.0   \n",
       "25%      2019.000000  1.929231e+09          2.019042e+07         1.0   \n",
       "50%      2019.000000  1.929806e+09          2.019081e+07         1.0   \n",
       "75%      2019.000000  1.930400e+09          2.019112e+07         1.0   \n",
       "max      2020.000000  9.500000e+09          2.020052e+07         1.0   \n",
       "\n",
       "       total_open_amount  baseline_create_date    invoice_id        isOpen  \\\n",
       "count       50000.000000          5.000000e+04  4.999500e+04  50000.000000   \n",
       "mean        32073.374333          2.019253e+07  2.010541e+09      0.082740   \n",
       "std         39312.408586          3.893290e+03  2.754853e+08      0.275492   \n",
       "min             0.630000          2.018102e+07  1.928502e+09      0.000000   \n",
       "25%          4731.915000          2.019042e+07  1.929231e+09      0.000000   \n",
       "50%         17187.430000          2.019081e+07  1.929805e+09      0.000000   \n",
       "75%         46391.880000          2.019113e+07  1.930400e+09      0.000000   \n",
       "max        838758.370000          2.020052e+07  2.960636e+09      1.000000   \n",
       "\n",
       "             Target  \n",
       "count  45863.000000  \n",
       "mean       0.885965  \n",
       "std       11.074688  \n",
       "min      -88.000000  \n",
       "25%       -3.000000  \n",
       "50%        0.000000  \n",
       "75%        2.000000  \n",
       "max      287.000000  "
      ]
     },
     "execution_count": 51,
     "metadata": {},
     "output_type": "execute_result"
    }
   ],
   "source": [
    "df2.describe()"
   ]
  },
  {
   "cell_type": "code",
   "execution_count": 52,
   "metadata": {},
   "outputs": [
    {
     "data": {
      "text/plain": [
       "<matplotlib.axes._subplots.AxesSubplot at 0x7ff5e59a1760>"
      ]
     },
     "execution_count": 52,
     "metadata": {},
     "output_type": "execute_result"
    },
    {
     "data": {
      "image/png": "[encoded data removed]",
      "text/plain": [
       "<Figure size 432x288 with 1 Axes>"
      ]
     },
     "metadata": {
      "needs_background": "light"
     },
     "output_type": "display_data"
    }
   ],
   "source": [
    "df2.plot(kind='scatter', x='total_open_amount', y='clear_date')"
   ]
  },
  {
   "cell_type": "code",
   "execution_count": 23,
   "metadata": {
    "id": "xusHfMAtzYhF"
   },
   "outputs": [],
   "source": [
    "val1=val.iloc[:6880,:]\n",
    "val2=val.iloc[6880:,:]"
   ]
  },
  {
   "cell_type": "code",
   "execution_count": 24,
   "metadata": {
    "colab": {
     "base_uri": "https://localhost:8080/"
    },
    "id": "qugvUuTZwtre",
    "outputId": "2f9c7970-938b-4162-b265-9bf764540b1c"
   },
   "outputs": [
    {
     "name": "stdout",
     "output_type": "stream",
     "text": [
      "<class 'pandas.core.frame.DataFrame'>\n",
      "RangeIndex: 6880 entries, 38983 to 45862\n",
      "Data columns (total 13 columns):\n",
      " #   Column                  Non-Null Count  Dtype         \n",
      "---  ------                  --------------  -----         \n",
      " 0   index                   6880 non-null   int64         \n",
      " 1   cust_number             6880 non-null   object        \n",
      " 2   clear_date              6880 non-null   datetime64[ns]\n",
      " 3   buisness_year           6880 non-null   float64       \n",
      " 4   posting_date            6880 non-null   datetime64[ns]\n",
      " 5   document_create_date.1  6880 non-null   datetime64[ns]\n",
      " 6   due_in_date             6880 non-null   datetime64[ns]\n",
      " 7   invoice_currency        6880 non-null   object        \n",
      " 8   total_open_amount       6880 non-null   float64       \n",
      " 9   baseline_create_date    6880 non-null   float64       \n",
      " 10  cust_payment_terms      6880 non-null   object        \n",
      " 11  invoice_id              6880 non-null   float64       \n",
      " 12  Target                  6880 non-null   float64       \n",
      "dtypes: datetime64[ns](4), float64(5), int64(1), object(3)\n",
      "memory usage: 698.9+ KB\n"
     ]
    }
   ],
   "source": [
    "val2.info()"
   ]
  },
  {
   "cell_type": "code",
   "execution_count": 25,
   "metadata": {
    "colab": {
     "base_uri": "https://localhost:8080/"
    },
    "id": "W7Oae1uHOyDZ",
    "outputId": "d3ce3a94-2c7a-4e73-d5c4-a5beba9bf904"
   },
   "outputs": [
    {
     "name": "stdout",
     "output_type": "stream",
     "text": [
      "<class 'pandas.core.frame.DataFrame'>\n",
      "RangeIndex: 32102 entries, 0 to 32101\n",
      "Data columns (total 13 columns):\n",
      " #   Column                  Non-Null Count  Dtype         \n",
      "---  ------                  --------------  -----         \n",
      " 0   index                   32102 non-null  int64         \n",
      " 1   cust_number             32102 non-null  object        \n",
      " 2   clear_date              32102 non-null  datetime64[ns]\n",
      " 3   buisness_year           32102 non-null  float64       \n",
      " 4   posting_date            32102 non-null  datetime64[ns]\n",
      " 5   document_create_date.1  32102 non-null  datetime64[ns]\n",
      " 6   due_in_date             32102 non-null  datetime64[ns]\n",
      " 7   invoice_currency        32102 non-null  object        \n",
      " 8   total_open_amount       32102 non-null  float64       \n",
      " 9   baseline_create_date    32102 non-null  float64       \n",
      " 10  cust_payment_terms      32102 non-null  object        \n",
      " 11  invoice_id              32097 non-null  float64       \n",
      " 12  Target                  32102 non-null  float64       \n",
      "dtypes: datetime64[ns](4), float64(5), int64(1), object(3)\n",
      "memory usage: 3.2+ MB\n"
     ]
    }
   ],
   "source": [
    "train.info()"
   ]
  },
  {
   "cell_type": "markdown",
   "metadata": {
    "id": "i2tSkbqYvOgD"
   },
   "source": [
    " **Time for some feature engineering to extract valuable information from datetime columns**"
   ]
  },
  {
   "cell_type": "code",
   "execution_count": 26,
   "metadata": {
    "id": "jm4UTJiXvmXa"
   },
   "outputs": [
    {
     "ename": "SyntaxError",
     "evalue": "invalid syntax (<ipython-input-26-4b9305bed464>, line 1)",
     "output_type": "error",
     "traceback": [
      "\u001b[0;36m  File \u001b[0;32m\"<ipython-input-26-4b9305bed464>\"\u001b[0;36m, line \u001b[0;32m1\u001b[0m\n\u001b[0;31m    getting month , week , quarter , if weekday or not these kinds of infrmation to help train\u001b[0m\n\u001b[0m            ^\u001b[0m\n\u001b[0;31mSyntaxError\u001b[0m\u001b[0;31m:\u001b[0m invalid syntax\n"
     ]
    }
   ],
   "source": [
    "#getting month , week , quarter , if weekday or not these kinds of infrmation to help train"
   ]
  },
  {
   "cell_type": "code",
   "execution_count": 27,
   "metadata": {
    "colab": {
     "base_uri": "https://localhost:8080/"
    },
    "id": "Fts-ffXSH_kB",
    "outputId": "2b40a8f2-f6a1-46f0-f235-10db6af4a686"
   },
   "outputs": [
    {
     "name": "stderr",
     "output_type": "stream",
     "text": [
      "<ipython-input-27-52cfddf30db8>:1: SettingWithCopyWarning: \n",
      "A value is trying to be set on a copy of a slice from a DataFrame.\n",
      "Try using .loc[row_indexer,col_indexer] = value instead\n",
      "\n",
      "See the caveats in the documentation: https://pandas.pydata.org/pandas-docs/stable/user_guide/indexing.html#returning-a-view-versus-a-copy\n",
      "  train['month_clear'] = train['clear_date'].dt.month\n"
     ]
    }
   ],
   "source": [
    "train['month_clear'] = train['clear_date'].dt.month"
   ]
  },
  {
   "cell_type": "code",
   "execution_count": 28,
   "metadata": {
    "colab": {
     "base_uri": "https://localhost:8080/"
    },
    "id": "NANHHFl7Op-U",
    "outputId": "426a1678-bd99-4a38-e219-be1bbc72ffcb"
   },
   "outputs": [
    {
     "data": {
      "text/plain": [
       "0         5\n",
       "1         1\n",
       "2         3\n",
       "3         1\n",
       "4         1\n",
       "         ..\n",
       "32097    10\n",
       "32098    10\n",
       "32099    10\n",
       "32100    11\n",
       "32101    10\n",
       "Name: month_clear, Length: 32102, dtype: int64"
      ]
     },
     "execution_count": 28,
     "metadata": {},
     "output_type": "execute_result"
    }
   ],
   "source": [
    "train['month_clear']"
   ]
  },
  {
   "cell_type": "code",
   "execution_count": 29,
   "metadata": {
    "colab": {
     "base_uri": "https://localhost:8080/"
    },
    "id": "EFzPXS8KPzT4",
    "outputId": "6a5e7d18-edd0-4939-8842-a926e5de47df"
   },
   "outputs": [
    {
     "name": "stderr",
     "output_type": "stream",
     "text": [
      "<ipython-input-29-609cfa3853d5>:1: SettingWithCopyWarning: \n",
      "A value is trying to be set on a copy of a slice from a DataFrame.\n",
      "Try using .loc[row_indexer,col_indexer] = value instead\n",
      "\n",
      "See the caveats in the documentation: https://pandas.pydata.org/pandas-docs/stable/user_guide/indexing.html#returning-a-view-versus-a-copy\n",
      "  train['weekday_clear'] = train['clear_date'].dt.dayofweek\n"
     ]
    },
    {
     "data": {
      "text/plain": [
       "0        4\n",
       "1        3\n",
       "2        4\n",
       "3        3\n",
       "4        2\n",
       "        ..\n",
       "32097    1\n",
       "32098    2\n",
       "32099    2\n",
       "32100    2\n",
       "32101    2\n",
       "Name: weekday_clear, Length: 32102, dtype: int64"
      ]
     },
     "execution_count": 29,
     "metadata": {},
     "output_type": "execute_result"
    }
   ],
   "source": [
    "train['weekday_clear'] = train['clear_date'].dt.dayofweek\n",
    "train['weekday_clear']"
   ]
  },
  {
   "cell_type": "code",
   "execution_count": 30,
   "metadata": {
    "colab": {
     "base_uri": "https://localhost:8080/"
    },
    "id": "vBUHnmvGP5qX",
    "outputId": "0212dd57-917a-46ce-ef25-25711b87c728"
   },
   "outputs": [
    {
     "name": "stderr",
     "output_type": "stream",
     "text": [
      "<ipython-input-30-72c974563269>:1: SettingWithCopyWarning: \n",
      "A value is trying to be set on a copy of a slice from a DataFrame.\n",
      "Try using .loc[row_indexer,col_indexer] = value instead\n",
      "\n",
      "See the caveats in the documentation: https://pandas.pydata.org/pandas-docs/stable/user_guide/indexing.html#returning-a-view-versus-a-copy\n",
      "  train['day_clear']=train['clear_date'].dt.day\n"
     ]
    },
    {
     "data": {
      "text/plain": [
       "0        31\n",
       "1        10\n",
       "2         1\n",
       "3        10\n",
       "4         9\n",
       "         ..\n",
       "32097    22\n",
       "32098    23\n",
       "32099    23\n",
       "32100    27\n",
       "32101    23\n",
       "Name: day_clear, Length: 32102, dtype: int64"
      ]
     },
     "execution_count": 30,
     "metadata": {},
     "output_type": "execute_result"
    }
   ],
   "source": [
    "train['day_clear']=train['clear_date'].dt.day\n",
    "train['day_clear']"
   ]
  },
  {
   "cell_type": "code",
   "execution_count": 31,
   "metadata": {
    "id": "YfEAXiG3RY6_"
   },
   "outputs": [
    {
     "name": "stderr",
     "output_type": "stream",
     "text": [
      "<ipython-input-31-9507bc70b6c7>:1: SettingWithCopyWarning: \n",
      "A value is trying to be set on a copy of a slice from a DataFrame.\n",
      "Try using .loc[row_indexer,col_indexer] = value instead\n",
      "\n",
      "See the caveats in the documentation: https://pandas.pydata.org/pandas-docs/stable/user_guide/indexing.html#returning-a-view-versus-a-copy\n",
      "  train['quarter_clear']=train['clear_date'].dt.quarter\n"
     ]
    }
   ],
   "source": [
    "train['quarter_clear']=train['clear_date'].dt.quarter"
   ]
  },
  {
   "cell_type": "code",
   "execution_count": 32,
   "metadata": {
    "id": "_uY2L45IR4eW"
   },
   "outputs": [
    {
     "name": "stderr",
     "output_type": "stream",
     "text": [
      "<ipython-input-32-1d9dcf3ef787>:1: SettingWithCopyWarning: \n",
      "A value is trying to be set on a copy of a slice from a DataFrame.\n",
      "Try using .loc[row_indexer,col_indexer] = value instead\n",
      "\n",
      "See the caveats in the documentation: https://pandas.pydata.org/pandas-docs/stable/user_guide/indexing.html#returning-a-view-versus-a-copy\n",
      "  train['WEEKDAY_clear'] = pd.to_datetime(train['clear_date']).dt.dayofweek  # monday = 0, sunday = 6\n",
      "<ipython-input-32-1d9dcf3ef787>:2: SettingWithCopyWarning: \n",
      "A value is trying to be set on a copy of a slice from a DataFrame.\n",
      "Try using .loc[row_indexer,col_indexer] = value instead\n",
      "\n",
      "See the caveats in the documentation: https://pandas.pydata.org/pandas-docs/stable/user_guide/indexing.html#returning-a-view-versus-a-copy\n",
      "  train['weekend_clear'] = 0          # Initialize the column with default value of 0\n",
      "/home/adarsh/anaconda3/lib/python3.8/site-packages/pandas/core/indexing.py:966: SettingWithCopyWarning: \n",
      "A value is trying to be set on a copy of a slice from a DataFrame.\n",
      "Try using .loc[row_indexer,col_indexer] = value instead\n",
      "\n",
      "See the caveats in the documentation: https://pandas.pydata.org/pandas-docs/stable/user_guide/indexing.html#returning-a-view-versus-a-copy\n",
      "  self.obj[item] = s\n"
     ]
    }
   ],
   "source": [
    "train['WEEKDAY_clear'] = pd.to_datetime(train['clear_date']).dt.dayofweek  # monday = 0, sunday = 6\n",
    "train['weekend_clear'] = 0          # Initialize the column with default value of 0\n",
    "train.loc[train['WEEKDAY_clear'].isin([5, 6]), 'weekend_clear'] = 1"
   ]
  },
  {
   "cell_type": "code",
   "execution_count": 33,
   "metadata": {
    "colab": {
     "base_uri": "https://localhost:8080/"
    },
    "id": "GZ4wgioKSAJX",
    "outputId": "4fb52292-5576-41c9-a02a-c113ec236086"
   },
   "outputs": [
    {
     "name": "stderr",
     "output_type": "stream",
     "text": [
      "<ipython-input-33-1ec977e3d237>:1: SettingWithCopyWarning: \n",
      "A value is trying to be set on a copy of a slice from a DataFrame.\n",
      "Try using .loc[row_indexer,col_indexer] = value instead\n",
      "\n",
      "See the caveats in the documentation: https://pandas.pydata.org/pandas-docs/stable/user_guide/indexing.html#returning-a-view-versus-a-copy\n",
      "  train['week_clear']=train['clear_date'].dt.weekofyear\n"
     ]
    }
   ],
   "source": [
    "train['week_clear']=train['clear_date'].dt.weekofyear"
   ]
  },
  {
   "cell_type": "code",
   "execution_count": 34,
   "metadata": {
    "id": "V3qYRCr5TTbe"
   },
   "outputs": [],
   "source": [
    "train=train.drop(['WEEKDAY_clear'],axis=1)"
   ]
  },
  {
   "cell_type": "markdown",
   "metadata": {
    "id": "ii-XJgaIv1_b"
   },
   "source": [
    "Want to check if extracted some features which are highly correlated by plotting heatmap of correlations of all columns"
   ]
  },
  {
   "cell_type": "code",
   "execution_count": 35,
   "metadata": {
    "id": "pzeLvtOGYSr4"
   },
   "outputs": [],
   "source": [
    "import seaborn as sns\n",
    "import matplotlib.pyplot as plt\n",
    "%matplotlib inline\n",
    "from sklearn.feature_selection import VarianceThreshold"
   ]
  },
  {
   "cell_type": "code",
   "execution_count": 36,
   "metadata": {
    "colab": {
     "base_uri": "https://localhost:8080/",
     "height": 167
    },
    "id": "gFAJKASnTYNV",
    "outputId": "4568cf30-5809-4bd7-ed88-addc891767bc",
    "scrolled": true
   },
   "outputs": [
    {
     "data": {
      "text/html": [
       "<div>\n",
       "<style scoped>\n",
       "    .dataframe tbody tr th:only-of-type {\n",
       "        vertical-align: middle;\n",
       "    }\n",
       "\n",
       "    .dataframe tbody tr th {\n",
       "        vertical-align: top;\n",
       "    }\n",
       "\n",
       "    .dataframe thead th {\n",
       "        text-align: right;\n",
       "    }\n",
       "</style>\n",
       "<table border=\"1\" class=\"dataframe\">\n",
       "  <thead>\n",
       "    <tr style=\"text-align: right;\">\n",
       "      <th></th>\n",
       "      <th>index</th>\n",
       "      <th>cust_number</th>\n",
       "      <th>clear_date</th>\n",
       "      <th>buisness_year</th>\n",
       "      <th>posting_date</th>\n",
       "      <th>document_create_date.1</th>\n",
       "      <th>due_in_date</th>\n",
       "      <th>invoice_currency</th>\n",
       "      <th>total_open_amount</th>\n",
       "      <th>baseline_create_date</th>\n",
       "      <th>cust_payment_terms</th>\n",
       "      <th>invoice_id</th>\n",
       "      <th>Target</th>\n",
       "      <th>month_clear</th>\n",
       "      <th>weekday_clear</th>\n",
       "      <th>day_clear</th>\n",
       "      <th>quarter_clear</th>\n",
       "      <th>weekend_clear</th>\n",
       "      <th>week_clear</th>\n",
       "    </tr>\n",
       "  </thead>\n",
       "  <tbody>\n",
       "    <tr>\n",
       "      <th>0</th>\n",
       "      <td>7928</td>\n",
       "      <td>0140104409</td>\n",
       "      <td>2019-05-31</td>\n",
       "      <td>2019.0</td>\n",
       "      <td>2019-03-29</td>\n",
       "      <td>1970-01-01 00:00:00.020181024</td>\n",
       "      <td>2018-11-03</td>\n",
       "      <td>CAD</td>\n",
       "      <td>878.40</td>\n",
       "      <td>20181024.0</td>\n",
       "      <td>CA10</td>\n",
       "      <td>NaN</td>\n",
       "      <td>209.0</td>\n",
       "      <td>5</td>\n",
       "      <td>4</td>\n",
       "      <td>31</td>\n",
       "      <td>2</td>\n",
       "      <td>0</td>\n",
       "      <td>22</td>\n",
       "    </tr>\n",
       "    <tr>\n",
       "      <th>1</th>\n",
       "      <td>27787</td>\n",
       "      <td>0200769623</td>\n",
       "      <td>2019-01-10</td>\n",
       "      <td>2019.0</td>\n",
       "      <td>2018-12-30</td>\n",
       "      <td>1970-01-01 00:00:00.020181230</td>\n",
       "      <td>2019-01-14</td>\n",
       "      <td>USD</td>\n",
       "      <td>53468.80</td>\n",
       "      <td>20181230.0</td>\n",
       "      <td>NAH4</td>\n",
       "      <td>1.928542e+09</td>\n",
       "      <td>-4.0</td>\n",
       "      <td>1</td>\n",
       "      <td>3</td>\n",
       "      <td>10</td>\n",
       "      <td>1</td>\n",
       "      <td>0</td>\n",
       "      <td>2</td>\n",
       "    </tr>\n",
       "    <tr>\n",
       "      <th>2</th>\n",
       "      <td>32364</td>\n",
       "      <td>CCU013</td>\n",
       "      <td>2019-03-01</td>\n",
       "      <td>2019.0</td>\n",
       "      <td>2018-12-30</td>\n",
       "      <td>1970-01-01 00:00:00.020181230</td>\n",
       "      <td>2018-12-30</td>\n",
       "      <td>USD</td>\n",
       "      <td>10689.05</td>\n",
       "      <td>20181230.0</td>\n",
       "      <td>NAX2</td>\n",
       "      <td>1.928517e+09</td>\n",
       "      <td>61.0</td>\n",
       "      <td>3</td>\n",
       "      <td>4</td>\n",
       "      <td>1</td>\n",
       "      <td>1</td>\n",
       "      <td>0</td>\n",
       "      <td>9</td>\n",
       "    </tr>\n",
       "    <tr>\n",
       "      <th>3</th>\n",
       "      <td>19337</td>\n",
       "      <td>0200769623</td>\n",
       "      <td>2019-01-10</td>\n",
       "      <td>2019.0</td>\n",
       "      <td>2018-12-30</td>\n",
       "      <td>1970-01-01 00:00:00.020181230</td>\n",
       "      <td>2019-01-14</td>\n",
       "      <td>USD</td>\n",
       "      <td>8260.09</td>\n",
       "      <td>20181230.0</td>\n",
       "      <td>NAH4</td>\n",
       "      <td>1.928545e+09</td>\n",
       "      <td>-4.0</td>\n",
       "      <td>1</td>\n",
       "      <td>3</td>\n",
       "      <td>10</td>\n",
       "      <td>1</td>\n",
       "      <td>0</td>\n",
       "      <td>2</td>\n",
       "    </tr>\n",
       "    <tr>\n",
       "      <th>4</th>\n",
       "      <td>33926</td>\n",
       "      <td>0200769623</td>\n",
       "      <td>2019-01-09</td>\n",
       "      <td>2019.0</td>\n",
       "      <td>2018-12-30</td>\n",
       "      <td>1970-01-01 00:00:00.020181230</td>\n",
       "      <td>2019-01-14</td>\n",
       "      <td>USD</td>\n",
       "      <td>21950.77</td>\n",
       "      <td>20181230.0</td>\n",
       "      <td>NAH4</td>\n",
       "      <td>1.928543e+09</td>\n",
       "      <td>-5.0</td>\n",
       "      <td>1</td>\n",
       "      <td>2</td>\n",
       "      <td>9</td>\n",
       "      <td>1</td>\n",
       "      <td>0</td>\n",
       "      <td>2</td>\n",
       "    </tr>\n",
       "    <tr>\n",
       "      <th>...</th>\n",
       "      <td>...</td>\n",
       "      <td>...</td>\n",
       "      <td>...</td>\n",
       "      <td>...</td>\n",
       "      <td>...</td>\n",
       "      <td>...</td>\n",
       "      <td>...</td>\n",
       "      <td>...</td>\n",
       "      <td>...</td>\n",
       "      <td>...</td>\n",
       "      <td>...</td>\n",
       "      <td>...</td>\n",
       "      <td>...</td>\n",
       "      <td>...</td>\n",
       "      <td>...</td>\n",
       "      <td>...</td>\n",
       "      <td>...</td>\n",
       "      <td>...</td>\n",
       "      <td>...</td>\n",
       "    </tr>\n",
       "    <tr>\n",
       "      <th>32097</th>\n",
       "      <td>44560</td>\n",
       "      <td>0200761734</td>\n",
       "      <td>2019-10-22</td>\n",
       "      <td>2019.0</td>\n",
       "      <td>2019-10-08</td>\n",
       "      <td>1970-01-01 00:00:00.020191008</td>\n",
       "      <td>2019-10-23</td>\n",
       "      <td>USD</td>\n",
       "      <td>64505.90</td>\n",
       "      <td>20191008.0</td>\n",
       "      <td>NAA8</td>\n",
       "      <td>1.929984e+09</td>\n",
       "      <td>-1.0</td>\n",
       "      <td>10</td>\n",
       "      <td>1</td>\n",
       "      <td>22</td>\n",
       "      <td>4</td>\n",
       "      <td>0</td>\n",
       "      <td>43</td>\n",
       "    </tr>\n",
       "    <tr>\n",
       "      <th>32098</th>\n",
       "      <td>23713</td>\n",
       "      <td>0200704045</td>\n",
       "      <td>2019-10-23</td>\n",
       "      <td>2019.0</td>\n",
       "      <td>2019-10-08</td>\n",
       "      <td>1970-01-01 00:00:00.020191008</td>\n",
       "      <td>2019-10-23</td>\n",
       "      <td>USD</td>\n",
       "      <td>28727.09</td>\n",
       "      <td>20191008.0</td>\n",
       "      <td>NAA8</td>\n",
       "      <td>1.929990e+09</td>\n",
       "      <td>0.0</td>\n",
       "      <td>10</td>\n",
       "      <td>2</td>\n",
       "      <td>23</td>\n",
       "      <td>4</td>\n",
       "      <td>0</td>\n",
       "      <td>43</td>\n",
       "    </tr>\n",
       "    <tr>\n",
       "      <th>32099</th>\n",
       "      <td>16491</td>\n",
       "      <td>0200418007</td>\n",
       "      <td>2019-10-23</td>\n",
       "      <td>2019.0</td>\n",
       "      <td>2019-10-08</td>\n",
       "      <td>1970-01-01 00:00:00.020191008</td>\n",
       "      <td>2019-10-23</td>\n",
       "      <td>USD</td>\n",
       "      <td>51598.21</td>\n",
       "      <td>20191008.0</td>\n",
       "      <td>NAA8</td>\n",
       "      <td>1.929974e+09</td>\n",
       "      <td>0.0</td>\n",
       "      <td>10</td>\n",
       "      <td>2</td>\n",
       "      <td>23</td>\n",
       "      <td>4</td>\n",
       "      <td>0</td>\n",
       "      <td>43</td>\n",
       "    </tr>\n",
       "    <tr>\n",
       "      <th>32100</th>\n",
       "      <td>31537</td>\n",
       "      <td>CCU013</td>\n",
       "      <td>2019-11-27</td>\n",
       "      <td>2019.0</td>\n",
       "      <td>2019-10-08</td>\n",
       "      <td>1970-01-01 00:00:00.020191008</td>\n",
       "      <td>2019-10-08</td>\n",
       "      <td>USD</td>\n",
       "      <td>1545.26</td>\n",
       "      <td>20191008.0</td>\n",
       "      <td>NAX2</td>\n",
       "      <td>1.929964e+09</td>\n",
       "      <td>50.0</td>\n",
       "      <td>11</td>\n",
       "      <td>2</td>\n",
       "      <td>27</td>\n",
       "      <td>4</td>\n",
       "      <td>0</td>\n",
       "      <td>48</td>\n",
       "    </tr>\n",
       "    <tr>\n",
       "      <th>32101</th>\n",
       "      <td>14518</td>\n",
       "      <td>0200744019</td>\n",
       "      <td>2019-10-23</td>\n",
       "      <td>2019.0</td>\n",
       "      <td>2019-10-08</td>\n",
       "      <td>1970-01-01 00:00:00.020191008</td>\n",
       "      <td>2019-10-23</td>\n",
       "      <td>USD</td>\n",
       "      <td>9747.22</td>\n",
       "      <td>20191008.0</td>\n",
       "      <td>NAA8</td>\n",
       "      <td>1.929977e+09</td>\n",
       "      <td>0.0</td>\n",
       "      <td>10</td>\n",
       "      <td>2</td>\n",
       "      <td>23</td>\n",
       "      <td>4</td>\n",
       "      <td>0</td>\n",
       "      <td>43</td>\n",
       "    </tr>\n",
       "  </tbody>\n",
       "</table>\n",
       "<p>32102 rows × 19 columns</p>\n",
       "</div>"
      ],
      "text/plain": [
       "       index cust_number clear_date  buisness_year posting_date  \\\n",
       "0       7928  0140104409 2019-05-31         2019.0   2019-03-29   \n",
       "1      27787  0200769623 2019-01-10         2019.0   2018-12-30   \n",
       "2      32364      CCU013 2019-03-01         2019.0   2018-12-30   \n",
       "3      19337  0200769623 2019-01-10         2019.0   2018-12-30   \n",
       "4      33926  0200769623 2019-01-09         2019.0   2018-12-30   \n",
       "...      ...         ...        ...            ...          ...   \n",
       "32097  44560  0200761734 2019-10-22         2019.0   2019-10-08   \n",
       "32098  23713  0200704045 2019-10-23         2019.0   2019-10-08   \n",
       "32099  16491  0200418007 2019-10-23         2019.0   2019-10-08   \n",
       "32100  31537      CCU013 2019-11-27         2019.0   2019-10-08   \n",
       "32101  14518  0200744019 2019-10-23         2019.0   2019-10-08   \n",
       "\n",
       "             document_create_date.1 due_in_date invoice_currency  \\\n",
       "0     1970-01-01 00:00:00.020181024  2018-11-03              CAD   \n",
       "1     1970-01-01 00:00:00.020181230  2019-01-14              USD   \n",
       "2     1970-01-01 00:00:00.020181230  2018-12-30              USD   \n",
       "3     1970-01-01 00:00:00.020181230  2019-01-14              USD   \n",
       "4     1970-01-01 00:00:00.020181230  2019-01-14              USD   \n",
       "...                             ...         ...              ...   \n",
       "32097 1970-01-01 00:00:00.020191008  2019-10-23              USD   \n",
       "32098 1970-01-01 00:00:00.020191008  2019-10-23              USD   \n",
       "32099 1970-01-01 00:00:00.020191008  2019-10-23              USD   \n",
       "32100 1970-01-01 00:00:00.020191008  2019-10-08              USD   \n",
       "32101 1970-01-01 00:00:00.020191008  2019-10-23              USD   \n",
       "\n",
       "       total_open_amount  baseline_create_date cust_payment_terms  \\\n",
       "0                 878.40            20181024.0               CA10   \n",
       "1               53468.80            20181230.0               NAH4   \n",
       "2               10689.05            20181230.0               NAX2   \n",
       "3                8260.09            20181230.0               NAH4   \n",
       "4               21950.77            20181230.0               NAH4   \n",
       "...                  ...                   ...                ...   \n",
       "32097           64505.90            20191008.0               NAA8   \n",
       "32098           28727.09            20191008.0               NAA8   \n",
       "32099           51598.21            20191008.0               NAA8   \n",
       "32100            1545.26            20191008.0               NAX2   \n",
       "32101            9747.22            20191008.0               NAA8   \n",
       "\n",
       "         invoice_id  Target  month_clear  weekday_clear  day_clear  \\\n",
       "0               NaN   209.0            5              4         31   \n",
       "1      1.928542e+09    -4.0            1              3         10   \n",
       "2      1.928517e+09    61.0            3              4          1   \n",
       "3      1.928545e+09    -4.0            1              3         10   \n",
       "4      1.928543e+09    -5.0            1              2          9   \n",
       "...             ...     ...          ...            ...        ...   \n",
       "32097  1.929984e+09    -1.0           10              1         22   \n",
       "32098  1.929990e+09     0.0           10              2         23   \n",
       "32099  1.929974e+09     0.0           10              2         23   \n",
       "32100  1.929964e+09    50.0           11              2         27   \n",
       "32101  1.929977e+09     0.0           10              2         23   \n",
       "\n",
       "       quarter_clear  weekend_clear  week_clear  \n",
       "0                  2              0          22  \n",
       "1                  1              0           2  \n",
       "2                  1              0           9  \n",
       "3                  1              0           2  \n",
       "4                  1              0           2  \n",
       "...              ...            ...         ...  \n",
       "32097              4              0          43  \n",
       "32098              4              0          43  \n",
       "32099              4              0          43  \n",
       "32100              4              0          48  \n",
       "32101              4              0          43  \n",
       "\n",
       "[32102 rows x 19 columns]"
      ]
     },
     "execution_count": 36,
     "metadata": {},
     "output_type": "execute_result"
    }
   ],
   "source": [
    "train"
   ]
  },
  {
   "cell_type": "code",
   "execution_count": 54,
   "metadata": {
    "id": "tpk0wWKSXwKL"
   },
   "outputs": [
    {
     "data": {
      "text/plain": [
       "<matplotlib.axes._subplots.AxesSubplot at 0x7ff5e5912e80>"
      ]
     },
     "execution_count": 54,
     "metadata": {},
     "output_type": "execute_result"
    },
    {
     "data": {
      "image/png": "[encoded data removed]",
      "text/plain": [
       "<Figure size 432x288 with 1 Axes>"
      ]
     },
     "metadata": {
      "needs_background": "light"
     },
     "output_type": "display_data"
    }
   ],
   "source": [
    "train.plot(kind='scatter', x='total_open_amount', y='Target')"
   ]
  },
  {
   "cell_type": "markdown",
   "metadata": {},
   "source": [
    "We see that as the order amount increases the invoice is cleared nearly on the due date"
   ]
  },
  {
   "cell_type": "code",
   "execution_count": 56,
   "metadata": {},
   "outputs": [],
   "source": [
    "train = train.drop(['index', 'cust_number','clear_date' ,'buisness_year' ,'posting_date', 'document_create_date.1' ,'due_in_date'], axis=1)\n",
    "val1 = val1.drop(['index', 'cust_number','clear_date' ,'buisness_year' ,'posting_date', 'document_create_date.1' ,'due_in_date'], axis=1)\n",
    "val2 = val2.drop(['index', 'cust_number','clear_date' ,'buisness_year' ,'posting_date', 'document_create_date.1' ,'due_in_date'], axis=1)"
   ]
  },
  {
   "cell_type": "code",
   "execution_count": 57,
   "metadata": {},
   "outputs": [
    {
     "data": {
      "text/html": [
       "<div>\n",
       "<style scoped>\n",
       "    .dataframe tbody tr th:only-of-type {\n",
       "        vertical-align: middle;\n",
       "    }\n",
       "\n",
       "    .dataframe tbody tr th {\n",
       "        vertical-align: top;\n",
       "    }\n",
       "\n",
       "    .dataframe thead th {\n",
       "        text-align: right;\n",
       "    }\n",
       "</style>\n",
       "<table border=\"1\" class=\"dataframe\">\n",
       "  <thead>\n",
       "    <tr style=\"text-align: right;\">\n",
       "      <th></th>\n",
       "      <th>invoice_currency</th>\n",
       "      <th>total_open_amount</th>\n",
       "      <th>baseline_create_date</th>\n",
       "      <th>cust_payment_terms</th>\n",
       "      <th>invoice_id</th>\n",
       "      <th>Target</th>\n",
       "      <th>month_clear</th>\n",
       "      <th>weekday_clear</th>\n",
       "      <th>day_clear</th>\n",
       "      <th>quarter_clear</th>\n",
       "      <th>weekend_clear</th>\n",
       "      <th>week_clear</th>\n",
       "    </tr>\n",
       "  </thead>\n",
       "  <tbody>\n",
       "    <tr>\n",
       "      <th>0</th>\n",
       "      <td>CAD</td>\n",
       "      <td>878.40</td>\n",
       "      <td>20181024.0</td>\n",
       "      <td>CA10</td>\n",
       "      <td>NaN</td>\n",
       "      <td>209.0</td>\n",
       "      <td>5</td>\n",
       "      <td>4</td>\n",
       "      <td>31</td>\n",
       "      <td>2</td>\n",
       "      <td>0</td>\n",
       "      <td>22</td>\n",
       "    </tr>\n",
       "    <tr>\n",
       "      <th>1</th>\n",
       "      <td>USD</td>\n",
       "      <td>53468.80</td>\n",
       "      <td>20181230.0</td>\n",
       "      <td>NAH4</td>\n",
       "      <td>1.928542e+09</td>\n",
       "      <td>-4.0</td>\n",
       "      <td>1</td>\n",
       "      <td>3</td>\n",
       "      <td>10</td>\n",
       "      <td>1</td>\n",
       "      <td>0</td>\n",
       "      <td>2</td>\n",
       "    </tr>\n",
       "    <tr>\n",
       "      <th>2</th>\n",
       "      <td>USD</td>\n",
       "      <td>10689.05</td>\n",
       "      <td>20181230.0</td>\n",
       "      <td>NAX2</td>\n",
       "      <td>1.928517e+09</td>\n",
       "      <td>61.0</td>\n",
       "      <td>3</td>\n",
       "      <td>4</td>\n",
       "      <td>1</td>\n",
       "      <td>1</td>\n",
       "      <td>0</td>\n",
       "      <td>9</td>\n",
       "    </tr>\n",
       "    <tr>\n",
       "      <th>3</th>\n",
       "      <td>USD</td>\n",
       "      <td>8260.09</td>\n",
       "      <td>20181230.0</td>\n",
       "      <td>NAH4</td>\n",
       "      <td>1.928545e+09</td>\n",
       "      <td>-4.0</td>\n",
       "      <td>1</td>\n",
       "      <td>3</td>\n",
       "      <td>10</td>\n",
       "      <td>1</td>\n",
       "      <td>0</td>\n",
       "      <td>2</td>\n",
       "    </tr>\n",
       "    <tr>\n",
       "      <th>4</th>\n",
       "      <td>USD</td>\n",
       "      <td>21950.77</td>\n",
       "      <td>20181230.0</td>\n",
       "      <td>NAH4</td>\n",
       "      <td>1.928543e+09</td>\n",
       "      <td>-5.0</td>\n",
       "      <td>1</td>\n",
       "      <td>2</td>\n",
       "      <td>9</td>\n",
       "      <td>1</td>\n",
       "      <td>0</td>\n",
       "      <td>2</td>\n",
       "    </tr>\n",
       "    <tr>\n",
       "      <th>...</th>\n",
       "      <td>...</td>\n",
       "      <td>...</td>\n",
       "      <td>...</td>\n",
       "      <td>...</td>\n",
       "      <td>...</td>\n",
       "      <td>...</td>\n",
       "      <td>...</td>\n",
       "      <td>...</td>\n",
       "      <td>...</td>\n",
       "      <td>...</td>\n",
       "      <td>...</td>\n",
       "      <td>...</td>\n",
       "    </tr>\n",
       "    <tr>\n",
       "      <th>32097</th>\n",
       "      <td>USD</td>\n",
       "      <td>64505.90</td>\n",
       "      <td>20191008.0</td>\n",
       "      <td>NAA8</td>\n",
       "      <td>1.929984e+09</td>\n",
       "      <td>-1.0</td>\n",
       "      <td>10</td>\n",
       "      <td>1</td>\n",
       "      <td>22</td>\n",
       "      <td>4</td>\n",
       "      <td>0</td>\n",
       "      <td>43</td>\n",
       "    </tr>\n",
       "    <tr>\n",
       "      <th>32098</th>\n",
       "      <td>USD</td>\n",
       "      <td>28727.09</td>\n",
       "      <td>20191008.0</td>\n",
       "      <td>NAA8</td>\n",
       "      <td>1.929990e+09</td>\n",
       "      <td>0.0</td>\n",
       "      <td>10</td>\n",
       "      <td>2</td>\n",
       "      <td>23</td>\n",
       "      <td>4</td>\n",
       "      <td>0</td>\n",
       "      <td>43</td>\n",
       "    </tr>\n",
       "    <tr>\n",
       "      <th>32099</th>\n",
       "      <td>USD</td>\n",
       "      <td>51598.21</td>\n",
       "      <td>20191008.0</td>\n",
       "      <td>NAA8</td>\n",
       "      <td>1.929974e+09</td>\n",
       "      <td>0.0</td>\n",
       "      <td>10</td>\n",
       "      <td>2</td>\n",
       "      <td>23</td>\n",
       "      <td>4</td>\n",
       "      <td>0</td>\n",
       "      <td>43</td>\n",
       "    </tr>\n",
       "    <tr>\n",
       "      <th>32100</th>\n",
       "      <td>USD</td>\n",
       "      <td>1545.26</td>\n",
       "      <td>20191008.0</td>\n",
       "      <td>NAX2</td>\n",
       "      <td>1.929964e+09</td>\n",
       "      <td>50.0</td>\n",
       "      <td>11</td>\n",
       "      <td>2</td>\n",
       "      <td>27</td>\n",
       "      <td>4</td>\n",
       "      <td>0</td>\n",
       "      <td>48</td>\n",
       "    </tr>\n",
       "    <tr>\n",
       "      <th>32101</th>\n",
       "      <td>USD</td>\n",
       "      <td>9747.22</td>\n",
       "      <td>20191008.0</td>\n",
       "      <td>NAA8</td>\n",
       "      <td>1.929977e+09</td>\n",
       "      <td>0.0</td>\n",
       "      <td>10</td>\n",
       "      <td>2</td>\n",
       "      <td>23</td>\n",
       "      <td>4</td>\n",
       "      <td>0</td>\n",
       "      <td>43</td>\n",
       "    </tr>\n",
       "  </tbody>\n",
       "</table>\n",
       "<p>32102 rows × 12 columns</p>\n",
       "</div>"
      ],
      "text/plain": [
       "      invoice_currency  total_open_amount  baseline_create_date  \\\n",
       "0                  CAD             878.40            20181024.0   \n",
       "1                  USD           53468.80            20181230.0   \n",
       "2                  USD           10689.05            20181230.0   \n",
       "3                  USD            8260.09            20181230.0   \n",
       "4                  USD           21950.77            20181230.0   \n",
       "...                ...                ...                   ...   \n",
       "32097              USD           64505.90            20191008.0   \n",
       "32098              USD           28727.09            20191008.0   \n",
       "32099              USD           51598.21            20191008.0   \n",
       "32100              USD            1545.26            20191008.0   \n",
       "32101              USD            9747.22            20191008.0   \n",
       "\n",
       "      cust_payment_terms    invoice_id  Target  month_clear  weekday_clear  \\\n",
       "0                   CA10           NaN   209.0            5              4   \n",
       "1                   NAH4  1.928542e+09    -4.0            1              3   \n",
       "2                   NAX2  1.928517e+09    61.0            3              4   \n",
       "3                   NAH4  1.928545e+09    -4.0            1              3   \n",
       "4                   NAH4  1.928543e+09    -5.0            1              2   \n",
       "...                  ...           ...     ...          ...            ...   \n",
       "32097               NAA8  1.929984e+09    -1.0           10              1   \n",
       "32098               NAA8  1.929990e+09     0.0           10              2   \n",
       "32099               NAA8  1.929974e+09     0.0           10              2   \n",
       "32100               NAX2  1.929964e+09    50.0           11              2   \n",
       "32101               NAA8  1.929977e+09     0.0           10              2   \n",
       "\n",
       "       day_clear  quarter_clear  weekend_clear  week_clear  \n",
       "0             31              2              0          22  \n",
       "1             10              1              0           2  \n",
       "2              1              1              0           9  \n",
       "3             10              1              0           2  \n",
       "4              9              1              0           2  \n",
       "...          ...            ...            ...         ...  \n",
       "32097         22              4              0          43  \n",
       "32098         23              4              0          43  \n",
       "32099         23              4              0          43  \n",
       "32100         27              4              0          48  \n",
       "32101         23              4              0          43  \n",
       "\n",
       "[32102 rows x 12 columns]"
      ]
     },
     "execution_count": 57,
     "metadata": {},
     "output_type": "execute_result"
    }
   ],
   "source": [
    "train"
   ]
  },
  {
   "cell_type": "code",
   "execution_count": 58,
   "metadata": {},
   "outputs": [],
   "source": [
    "train = train.drop(['baseline_create_date', 'cust_payment_terms', 'invoice_id'], axis=1)\n",
    "val1 = val1.drop(['baseline_create_date', 'cust_payment_terms', 'invoice_id'], axis=1)\n",
    "val2 = val2.drop(['baseline_create_date', 'cust_payment_terms', 'invoice_id'], axis=1)"
   ]
  },
  {
   "cell_type": "code",
   "execution_count": 59,
   "metadata": {},
   "outputs": [
    {
     "data": {
      "text/html": [
       "<div>\n",
       "<style scoped>\n",
       "    .dataframe tbody tr th:only-of-type {\n",
       "        vertical-align: middle;\n",
       "    }\n",
       "\n",
       "    .dataframe tbody tr th {\n",
       "        vertical-align: top;\n",
       "    }\n",
       "\n",
       "    .dataframe thead th {\n",
       "        text-align: right;\n",
       "    }\n",
       "</style>\n",
       "<table border=\"1\" class=\"dataframe\">\n",
       "  <thead>\n",
       "    <tr style=\"text-align: right;\">\n",
       "      <th></th>\n",
       "      <th>invoice_currency</th>\n",
       "      <th>total_open_amount</th>\n",
       "      <th>Target</th>\n",
       "      <th>month_clear</th>\n",
       "      <th>weekday_clear</th>\n",
       "      <th>day_clear</th>\n",
       "      <th>quarter_clear</th>\n",
       "      <th>weekend_clear</th>\n",
       "      <th>week_clear</th>\n",
       "    </tr>\n",
       "  </thead>\n",
       "  <tbody>\n",
       "    <tr>\n",
       "      <th>0</th>\n",
       "      <td>CAD</td>\n",
       "      <td>878.40</td>\n",
       "      <td>209.0</td>\n",
       "      <td>5</td>\n",
       "      <td>4</td>\n",
       "      <td>31</td>\n",
       "      <td>2</td>\n",
       "      <td>0</td>\n",
       "      <td>22</td>\n",
       "    </tr>\n",
       "    <tr>\n",
       "      <th>1</th>\n",
       "      <td>USD</td>\n",
       "      <td>53468.80</td>\n",
       "      <td>-4.0</td>\n",
       "      <td>1</td>\n",
       "      <td>3</td>\n",
       "      <td>10</td>\n",
       "      <td>1</td>\n",
       "      <td>0</td>\n",
       "      <td>2</td>\n",
       "    </tr>\n",
       "    <tr>\n",
       "      <th>2</th>\n",
       "      <td>USD</td>\n",
       "      <td>10689.05</td>\n",
       "      <td>61.0</td>\n",
       "      <td>3</td>\n",
       "      <td>4</td>\n",
       "      <td>1</td>\n",
       "      <td>1</td>\n",
       "      <td>0</td>\n",
       "      <td>9</td>\n",
       "    </tr>\n",
       "    <tr>\n",
       "      <th>3</th>\n",
       "      <td>USD</td>\n",
       "      <td>8260.09</td>\n",
       "      <td>-4.0</td>\n",
       "      <td>1</td>\n",
       "      <td>3</td>\n",
       "      <td>10</td>\n",
       "      <td>1</td>\n",
       "      <td>0</td>\n",
       "      <td>2</td>\n",
       "    </tr>\n",
       "    <tr>\n",
       "      <th>4</th>\n",
       "      <td>USD</td>\n",
       "      <td>21950.77</td>\n",
       "      <td>-5.0</td>\n",
       "      <td>1</td>\n",
       "      <td>2</td>\n",
       "      <td>9</td>\n",
       "      <td>1</td>\n",
       "      <td>0</td>\n",
       "      <td>2</td>\n",
       "    </tr>\n",
       "    <tr>\n",
       "      <th>...</th>\n",
       "      <td>...</td>\n",
       "      <td>...</td>\n",
       "      <td>...</td>\n",
       "      <td>...</td>\n",
       "      <td>...</td>\n",
       "      <td>...</td>\n",
       "      <td>...</td>\n",
       "      <td>...</td>\n",
       "      <td>...</td>\n",
       "    </tr>\n",
       "    <tr>\n",
       "      <th>32097</th>\n",
       "      <td>USD</td>\n",
       "      <td>64505.90</td>\n",
       "      <td>-1.0</td>\n",
       "      <td>10</td>\n",
       "      <td>1</td>\n",
       "      <td>22</td>\n",
       "      <td>4</td>\n",
       "      <td>0</td>\n",
       "      <td>43</td>\n",
       "    </tr>\n",
       "    <tr>\n",
       "      <th>32098</th>\n",
       "      <td>USD</td>\n",
       "      <td>28727.09</td>\n",
       "      <td>0.0</td>\n",
       "      <td>10</td>\n",
       "      <td>2</td>\n",
       "      <td>23</td>\n",
       "      <td>4</td>\n",
       "      <td>0</td>\n",
       "      <td>43</td>\n",
       "    </tr>\n",
       "    <tr>\n",
       "      <th>32099</th>\n",
       "      <td>USD</td>\n",
       "      <td>51598.21</td>\n",
       "      <td>0.0</td>\n",
       "      <td>10</td>\n",
       "      <td>2</td>\n",
       "      <td>23</td>\n",
       "      <td>4</td>\n",
       "      <td>0</td>\n",
       "      <td>43</td>\n",
       "    </tr>\n",
       "    <tr>\n",
       "      <th>32100</th>\n",
       "      <td>USD</td>\n",
       "      <td>1545.26</td>\n",
       "      <td>50.0</td>\n",
       "      <td>11</td>\n",
       "      <td>2</td>\n",
       "      <td>27</td>\n",
       "      <td>4</td>\n",
       "      <td>0</td>\n",
       "      <td>48</td>\n",
       "    </tr>\n",
       "    <tr>\n",
       "      <th>32101</th>\n",
       "      <td>USD</td>\n",
       "      <td>9747.22</td>\n",
       "      <td>0.0</td>\n",
       "      <td>10</td>\n",
       "      <td>2</td>\n",
       "      <td>23</td>\n",
       "      <td>4</td>\n",
       "      <td>0</td>\n",
       "      <td>43</td>\n",
       "    </tr>\n",
       "  </tbody>\n",
       "</table>\n",
       "<p>32102 rows × 9 columns</p>\n",
       "</div>"
      ],
      "text/plain": [
       "      invoice_currency  total_open_amount  Target  month_clear  weekday_clear  \\\n",
       "0                  CAD             878.40   209.0            5              4   \n",
       "1                  USD           53468.80    -4.0            1              3   \n",
       "2                  USD           10689.05    61.0            3              4   \n",
       "3                  USD            8260.09    -4.0            1              3   \n",
       "4                  USD           21950.77    -5.0            1              2   \n",
       "...                ...                ...     ...          ...            ...   \n",
       "32097              USD           64505.90    -1.0           10              1   \n",
       "32098              USD           28727.09     0.0           10              2   \n",
       "32099              USD           51598.21     0.0           10              2   \n",
       "32100              USD            1545.26    50.0           11              2   \n",
       "32101              USD            9747.22     0.0           10              2   \n",
       "\n",
       "       day_clear  quarter_clear  weekend_clear  week_clear  \n",
       "0             31              2              0          22  \n",
       "1             10              1              0           2  \n",
       "2              1              1              0           9  \n",
       "3             10              1              0           2  \n",
       "4              9              1              0           2  \n",
       "...          ...            ...            ...         ...  \n",
       "32097         22              4              0          43  \n",
       "32098         23              4              0          43  \n",
       "32099         23              4              0          43  \n",
       "32100         27              4              0          48  \n",
       "32101         23              4              0          43  \n",
       "\n",
       "[32102 rows x 9 columns]"
      ]
     },
     "execution_count": 59,
     "metadata": {},
     "output_type": "execute_result"
    }
   ],
   "source": [
    "train"
   ]
  },
  {
   "cell_type": "code",
   "execution_count": 60,
   "metadata": {},
   "outputs": [
    {
     "data": {
      "text/html": [
       "<div>\n",
       "<style scoped>\n",
       "    .dataframe tbody tr th:only-of-type {\n",
       "        vertical-align: middle;\n",
       "    }\n",
       "\n",
       "    .dataframe tbody tr th {\n",
       "        vertical-align: top;\n",
       "    }\n",
       "\n",
       "    .dataframe thead th {\n",
       "        text-align: right;\n",
       "    }\n",
       "</style>\n",
       "<table border=\"1\" class=\"dataframe\">\n",
       "  <thead>\n",
       "    <tr style=\"text-align: right;\">\n",
       "      <th></th>\n",
       "      <th>total_open_amount</th>\n",
       "      <th>Target</th>\n",
       "      <th>month_clear</th>\n",
       "      <th>weekday_clear</th>\n",
       "      <th>day_clear</th>\n",
       "      <th>quarter_clear</th>\n",
       "      <th>weekend_clear</th>\n",
       "      <th>week_clear</th>\n",
       "    </tr>\n",
       "  </thead>\n",
       "  <tbody>\n",
       "    <tr>\n",
       "      <th>total_open_amount</th>\n",
       "      <td>1.000000</td>\n",
       "      <td>-0.000947</td>\n",
       "      <td>-0.004272</td>\n",
       "      <td>0.012099</td>\n",
       "      <td>0.002994</td>\n",
       "      <td>-0.001078</td>\n",
       "      <td>-0.017681</td>\n",
       "      <td>-0.004511</td>\n",
       "    </tr>\n",
       "    <tr>\n",
       "      <th>Target</th>\n",
       "      <td>-0.000947</td>\n",
       "      <td>1.000000</td>\n",
       "      <td>0.100949</td>\n",
       "      <td>0.079486</td>\n",
       "      <td>0.047547</td>\n",
       "      <td>0.086938</td>\n",
       "      <td>0.005827</td>\n",
       "      <td>0.104862</td>\n",
       "    </tr>\n",
       "    <tr>\n",
       "      <th>month_clear</th>\n",
       "      <td>-0.004272</td>\n",
       "      <td>0.100949</td>\n",
       "      <td>1.000000</td>\n",
       "      <td>0.013238</td>\n",
       "      <td>-0.107897</td>\n",
       "      <td>0.956127</td>\n",
       "      <td>0.001528</td>\n",
       "      <td>0.992796</td>\n",
       "    </tr>\n",
       "    <tr>\n",
       "      <th>weekday_clear</th>\n",
       "      <td>0.012099</td>\n",
       "      <td>0.079486</td>\n",
       "      <td>0.013238</td>\n",
       "      <td>1.000000</td>\n",
       "      <td>0.024143</td>\n",
       "      <td>-0.001957</td>\n",
       "      <td>0.119442</td>\n",
       "      <td>-0.001809</td>\n",
       "    </tr>\n",
       "    <tr>\n",
       "      <th>day_clear</th>\n",
       "      <td>0.002994</td>\n",
       "      <td>0.047547</td>\n",
       "      <td>-0.107897</td>\n",
       "      <td>0.024143</td>\n",
       "      <td>1.000000</td>\n",
       "      <td>-0.104394</td>\n",
       "      <td>0.027692</td>\n",
       "      <td>-0.000572</td>\n",
       "    </tr>\n",
       "    <tr>\n",
       "      <th>quarter_clear</th>\n",
       "      <td>-0.001078</td>\n",
       "      <td>0.086938</td>\n",
       "      <td>0.956127</td>\n",
       "      <td>-0.001957</td>\n",
       "      <td>-0.104394</td>\n",
       "      <td>1.000000</td>\n",
       "      <td>-0.001956</td>\n",
       "      <td>0.949613</td>\n",
       "    </tr>\n",
       "    <tr>\n",
       "      <th>weekend_clear</th>\n",
       "      <td>-0.017681</td>\n",
       "      <td>0.005827</td>\n",
       "      <td>0.001528</td>\n",
       "      <td>0.119442</td>\n",
       "      <td>0.027692</td>\n",
       "      <td>-0.001956</td>\n",
       "      <td>1.000000</td>\n",
       "      <td>0.002367</td>\n",
       "    </tr>\n",
       "    <tr>\n",
       "      <th>week_clear</th>\n",
       "      <td>-0.004511</td>\n",
       "      <td>0.104862</td>\n",
       "      <td>0.992796</td>\n",
       "      <td>-0.001809</td>\n",
       "      <td>-0.000572</td>\n",
       "      <td>0.949613</td>\n",
       "      <td>0.002367</td>\n",
       "      <td>1.000000</td>\n",
       "    </tr>\n",
       "  </tbody>\n",
       "</table>\n",
       "</div>"
      ],
      "text/plain": [
       "                   total_open_amount    Target  month_clear  weekday_clear  \\\n",
       "total_open_amount           1.000000 -0.000947    -0.004272       0.012099   \n",
       "Target                     -0.000947  1.000000     0.100949       0.079486   \n",
       "month_clear                -0.004272  0.100949     1.000000       0.013238   \n",
       "weekday_clear               0.012099  0.079486     0.013238       1.000000   \n",
       "day_clear                   0.002994  0.047547    -0.107897       0.024143   \n",
       "quarter_clear              -0.001078  0.086938     0.956127      -0.001957   \n",
       "weekend_clear              -0.017681  0.005827     0.001528       0.119442   \n",
       "week_clear                 -0.004511  0.104862     0.992796      -0.001809   \n",
       "\n",
       "                   day_clear  quarter_clear  weekend_clear  week_clear  \n",
       "total_open_amount   0.002994      -0.001078      -0.017681   -0.004511  \n",
       "Target              0.047547       0.086938       0.005827    0.104862  \n",
       "month_clear        -0.107897       0.956127       0.001528    0.992796  \n",
       "weekday_clear       0.024143      -0.001957       0.119442   -0.001809  \n",
       "day_clear           1.000000      -0.104394       0.027692   -0.000572  \n",
       "quarter_clear      -0.104394       1.000000      -0.001956    0.949613  \n",
       "weekend_clear       0.027692      -0.001956       1.000000    0.002367  \n",
       "week_clear         -0.000572       0.949613       0.002367    1.000000  "
      ]
     },
     "execution_count": 60,
     "metadata": {},
     "output_type": "execute_result"
    }
   ],
   "source": [
    "train.corr()"
   ]
  },
  {
   "cell_type": "code",
   "execution_count": null,
   "metadata": {},
   "outputs": [],
   "source": []
  }
 ],
 "metadata": {
  "accelerator": "GPU",
  "colab": {
   "name": "practice_House_Gollum.ipynb",
   "provenance": []
  },
  "kernelspec": {
   "display_name": "Python 3",
   "language": "python",
   "name": "python3"
  },
  "language_info": {
   "codemirror_mode": {
    "name": "ipython",
    "version": 3
   },
   "file_extension": ".py",
   "mimetype": "text/x-python",
   "name": "python",
   "nbconvert_exporter": "python",
   "pygments_lexer": "ipython3",
   "version": "3.8.3"
  }
 },
 "nbformat": 4,
 "nbformat_minor": 1
}
